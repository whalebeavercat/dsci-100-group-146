{
 "cells": [
  {
   "cell_type": "markdown",
   "id": "8cb0352d-f490-4505-baf3-e7279098b2a4",
   "metadata": {},
   "source": [
    "# What is the relationship between the Gross Domestic Product Per Capita and the performance of their soccer teams in international matches?"
   ]
  },
  {
   "cell_type": "markdown",
   "id": "e9d89d19-a9ca-4a4e-89db-e13128fbf069",
   "metadata": {},
   "source": [
    "## Introduction\n",
    "\n",
    "- Find bias\n",
    "- Regression, based on country's GDP and performance\n",
    "- Dataset"
   ]
  },
  {
   "cell_type": "code",
   "execution_count": 1,
   "id": "abbc9353-71c0-4ee4-a7b6-eaed97c307eb",
   "metadata": {},
   "outputs": [
    {
     "name": "stderr",
     "output_type": "stream",
     "text": [
      "── \u001b[1mAttaching packages\u001b[22m ─────────────────────────────────────── tidyverse 1.3.1 ──\n",
      "\n",
      "\u001b[32m✔\u001b[39m \u001b[34mggplot2\u001b[39m 3.3.6     \u001b[32m✔\u001b[39m \u001b[34mpurrr  \u001b[39m 0.3.4\n",
      "\u001b[32m✔\u001b[39m \u001b[34mtibble \u001b[39m 3.1.7     \u001b[32m✔\u001b[39m \u001b[34mdplyr  \u001b[39m 1.0.9\n",
      "\u001b[32m✔\u001b[39m \u001b[34mtidyr  \u001b[39m 1.2.0     \u001b[32m✔\u001b[39m \u001b[34mstringr\u001b[39m 1.4.0\n",
      "\u001b[32m✔\u001b[39m \u001b[34mreadr  \u001b[39m 2.1.2     \u001b[32m✔\u001b[39m \u001b[34mforcats\u001b[39m 0.5.1\n",
      "\n",
      "── \u001b[1mConflicts\u001b[22m ────────────────────────────────────────── tidyverse_conflicts() ──\n",
      "\u001b[31m✖\u001b[39m \u001b[34mdplyr\u001b[39m::\u001b[32mfilter()\u001b[39m masks \u001b[34mstats\u001b[39m::filter()\n",
      "\u001b[31m✖\u001b[39m \u001b[34mdplyr\u001b[39m::\u001b[32mlag()\u001b[39m    masks \u001b[34mstats\u001b[39m::lag()\n",
      "\n",
      "── \u001b[1mAttaching packages\u001b[22m ────────────────────────────────────── tidymodels 1.0.0 ──\n",
      "\n",
      "\u001b[32m✔\u001b[39m \u001b[34mbroom       \u001b[39m 1.0.0     \u001b[32m✔\u001b[39m \u001b[34mrsample     \u001b[39m 1.0.0\n",
      "\u001b[32m✔\u001b[39m \u001b[34mdials       \u001b[39m 1.0.0     \u001b[32m✔\u001b[39m \u001b[34mtune        \u001b[39m 1.0.0\n",
      "\u001b[32m✔\u001b[39m \u001b[34minfer       \u001b[39m 1.0.2     \u001b[32m✔\u001b[39m \u001b[34mworkflows   \u001b[39m 1.0.0\n",
      "\u001b[32m✔\u001b[39m \u001b[34mmodeldata   \u001b[39m 1.0.0     \u001b[32m✔\u001b[39m \u001b[34mworkflowsets\u001b[39m 1.0.0\n",
      "\u001b[32m✔\u001b[39m \u001b[34mparsnip     \u001b[39m 1.0.0     \u001b[32m✔\u001b[39m \u001b[34myardstick   \u001b[39m 1.0.0\n",
      "\u001b[32m✔\u001b[39m \u001b[34mrecipes     \u001b[39m 1.0.1     \n",
      "\n",
      "── \u001b[1mConflicts\u001b[22m ───────────────────────────────────────── tidymodels_conflicts() ──\n",
      "\u001b[31m✖\u001b[39m \u001b[34mscales\u001b[39m::\u001b[32mdiscard()\u001b[39m masks \u001b[34mpurrr\u001b[39m::discard()\n",
      "\u001b[31m✖\u001b[39m \u001b[34mdplyr\u001b[39m::\u001b[32mfilter()\u001b[39m   masks \u001b[34mstats\u001b[39m::filter()\n",
      "\u001b[31m✖\u001b[39m \u001b[34mrecipes\u001b[39m::\u001b[32mfixed()\u001b[39m  masks \u001b[34mstringr\u001b[39m::fixed()\n",
      "\u001b[31m✖\u001b[39m \u001b[34mdplyr\u001b[39m::\u001b[32mlag()\u001b[39m      masks \u001b[34mstats\u001b[39m::lag()\n",
      "\u001b[31m✖\u001b[39m \u001b[34myardstick\u001b[39m::\u001b[32mspec()\u001b[39m masks \u001b[34mreadr\u001b[39m::spec()\n",
      "\u001b[31m✖\u001b[39m \u001b[34mrecipes\u001b[39m::\u001b[32mstep()\u001b[39m   masks \u001b[34mstats\u001b[39m::step()\n",
      "\u001b[34m•\u001b[39m Dig deeper into tidy modeling with R at \u001b[32mhttps://www.tmwr.org\u001b[39m\n",
      "\n",
      "\n",
      "Attaching package: ‘rvest’\n",
      "\n",
      "\n",
      "The following object is masked from ‘package:readr’:\n",
      "\n",
      "    guess_encoding\n",
      "\n",
      "\n"
     ]
    }
   ],
   "source": [
    "library(tidyverse)\n",
    "library(repr)\n",
    "library(tidymodels)\n",
    "library(rvest)\n",
    "library(stringr)\n",
    "options(repr.matrix.max.rows = 6)"
   ]
  },
  {
   "cell_type": "markdown",
   "id": "3112f8a1-81c6-4bcd-852c-48778ec6da41",
   "metadata": {},
   "source": [
    "## Data Sources\n",
    "\n",
    "- https://www.imf.org/external/datamapper/datasets/WEO\n",
    "- https://www.rsssf.org/tablesw/wcq-records.html"
   ]
  },
  {
   "cell_type": "code",
   "execution_count": 2,
   "id": "0b106a7c-e8c7-4bd2-92ce-a93cb14c3786",
   "metadata": {},
   "outputs": [
    {
     "name": "stderr",
     "output_type": "stream",
     "text": [
      "\u001b[1mRows: \u001b[22m\u001b[34m228\u001b[39m \u001b[1mColumns: \u001b[22m\u001b[34m49\u001b[39m\n",
      "\u001b[36m──\u001b[39m \u001b[1mColumn specification\u001b[22m \u001b[36m────────────────────────────────────────────────────────\u001b[39m\n",
      "\u001b[1mDelimiter:\u001b[22m \",\"\n",
      "\u001b[31mchr\u001b[39m  (1): Country\n",
      "\u001b[32mdbl\u001b[39m (48): 1980, 1981, 1982, 1983, 1984, 1985, 1986, 1987, 1988, 1989, 1990, ...\n",
      "\n",
      "\u001b[36mℹ\u001b[39m Use `spec()` to retrieve the full column specification for this data.\n",
      "\u001b[36mℹ\u001b[39m Specify the column types or set `show_col_types = FALSE` to quiet this message.\n"
     ]
    },
    {
     "data": {
      "text/html": [
       "<table class=\"dataframe\">\n",
       "<caption>A spec_tbl_df: 228 × 49</caption>\n",
       "<thead>\n",
       "\t<tr><th scope=col>Country</th><th scope=col>1980</th><th scope=col>1981</th><th scope=col>1982</th><th scope=col>1983</th><th scope=col>1984</th><th scope=col>1985</th><th scope=col>1986</th><th scope=col>1987</th><th scope=col>1988</th><th scope=col>⋯</th><th scope=col>2018</th><th scope=col>2019</th><th scope=col>2020</th><th scope=col>2021</th><th scope=col>2022</th><th scope=col>2023</th><th scope=col>2024</th><th scope=col>2025</th><th scope=col>2026</th><th scope=col>2027</th></tr>\n",
       "\t<tr><th scope=col>&lt;chr&gt;</th><th scope=col>&lt;dbl&gt;</th><th scope=col>&lt;dbl&gt;</th><th scope=col>&lt;dbl&gt;</th><th scope=col>&lt;dbl&gt;</th><th scope=col>&lt;dbl&gt;</th><th scope=col>&lt;dbl&gt;</th><th scope=col>&lt;dbl&gt;</th><th scope=col>&lt;dbl&gt;</th><th scope=col>&lt;dbl&gt;</th><th scope=col>⋯</th><th scope=col>&lt;dbl&gt;</th><th scope=col>&lt;dbl&gt;</th><th scope=col>&lt;dbl&gt;</th><th scope=col>&lt;dbl&gt;</th><th scope=col>&lt;dbl&gt;</th><th scope=col>&lt;dbl&gt;</th><th scope=col>&lt;dbl&gt;</th><th scope=col>&lt;dbl&gt;</th><th scope=col>&lt;dbl&gt;</th><th scope=col>&lt;dbl&gt;</th></tr>\n",
       "</thead>\n",
       "<tbody>\n",
       "\t<tr><td>Afghanistan</td><td>      NA</td><td>      NA</td><td>      NA</td><td>      NA</td><td>      NA</td><td>      NA</td><td>      NA</td><td>      NA</td><td>      NA</td><td>⋯</td><td> 582.323</td><td> 586.204</td><td> 611.268</td><td>      NA</td><td>      NA</td><td>      NA</td><td>      NA</td><td>      NA</td><td>      NA</td><td>      NA</td></tr>\n",
       "\t<tr><td>Albania    </td><td> 728.359</td><td> 817.734</td><td> 824.542</td><td> 815.529</td><td> 788.332</td><td> 788.801</td><td> 855.724</td><td> 832.245</td><td> 805.046</td><td>⋯</td><td>5257.714</td><td>5345.058</td><td>5268.239</td><td>6373.300</td><td>6369.009</td><td>6591.682</td><td>6968.694</td><td>7470.082</td><td>7958.016</td><td>8469.507</td></tr>\n",
       "\t<tr><td>Algeria    </td><td>2268.607</td><td>2305.505</td><td>2254.328</td><td>2316.679</td><td>2432.717</td><td>2753.697</td><td>2698.915</td><td>2705.111</td><td>2143.742</td><td>⋯</td><td>4118.839</td><td>3953.576</td><td>3304.865</td><td>3659.531</td><td>4151.437</td><td>4162.176</td><td>4242.401</td><td>4371.569</td><td>4523.644</td><td>4637.342</td></tr>\n",
       "\t<tr><td>⋮</td><td>⋮</td><td>⋮</td><td>⋮</td><td>⋮</td><td>⋮</td><td>⋮</td><td>⋮</td><td>⋮</td><td>⋮</td><td>⋱</td><td>⋮</td><td>⋮</td><td>⋮</td><td>⋮</td><td>⋮</td><td>⋮</td><td>⋮</td><td>⋮</td><td>⋮</td><td>⋮</td></tr>\n",
       "\t<tr><td>Other advanced economies</td><td>6886.485</td><td>6930.571</td><td>6792.923</td><td>6699.744</td><td>6948.341</td><td>6861.781</td><td>8292.104</td><td>10106.092</td><td>11787.179</td><td>⋯</td><td>44142.030</td><td>43022.850</td><td>42555.028</td><td>48965.722</td><td>49580.11</td><td>51398.605</td><td>53529.015</td><td>55708.932</td><td>57993.545</td><td>60331.76</td></tr>\n",
       "\t<tr><td>Sub-Saharan Africa      </td><td>      NA</td><td>      NA</td><td>      NA</td><td>      NA</td><td>      NA</td><td>      NA</td><td>      NA</td><td>       NA</td><td>       NA</td><td>⋯</td><td> 1760.388</td><td> 1727.391</td><td> 1591.065</td><td> 1746.345</td><td> 1849.62</td><td> 1933.069</td><td> 2043.649</td><td> 2160.323</td><td> 2287.835</td><td> 2421.53</td></tr>\n",
       "\t<tr><td>World                   </td><td>2862.333</td><td>2876.220</td><td>2772.215</td><td>2797.085</td><td>2846.673</td><td>2920.230</td><td>3376.821</td><td> 3820.734</td><td> 4222.994</td><td>⋯</td><td>11489.302</td><td>11558.645</td><td>11155.514</td><td>12616.281</td><td>13396.10</td><td>13923.716</td><td>14522.871</td><td>15149.837</td><td>15810.007</td><td>16490.80</td></tr>\n",
       "</tbody>\n",
       "</table>\n"
      ],
      "text/latex": [
       "A spec\\_tbl\\_df: 228 × 49\n",
       "\\begin{tabular}{lllllllllllllllllllll}\n",
       " Country & 1980 & 1981 & 1982 & 1983 & 1984 & 1985 & 1986 & 1987 & 1988 & ⋯ & 2018 & 2019 & 2020 & 2021 & 2022 & 2023 & 2024 & 2025 & 2026 & 2027\\\\\n",
       " <chr> & <dbl> & <dbl> & <dbl> & <dbl> & <dbl> & <dbl> & <dbl> & <dbl> & <dbl> & ⋯ & <dbl> & <dbl> & <dbl> & <dbl> & <dbl> & <dbl> & <dbl> & <dbl> & <dbl> & <dbl>\\\\\n",
       "\\hline\n",
       "\t Afghanistan &       NA &       NA &       NA &       NA &       NA &       NA &       NA &       NA &       NA & ⋯ &  582.323 &  586.204 &  611.268 &       NA &       NA &       NA &       NA &       NA &       NA &       NA\\\\\n",
       "\t Albania     &  728.359 &  817.734 &  824.542 &  815.529 &  788.332 &  788.801 &  855.724 &  832.245 &  805.046 & ⋯ & 5257.714 & 5345.058 & 5268.239 & 6373.300 & 6369.009 & 6591.682 & 6968.694 & 7470.082 & 7958.016 & 8469.507\\\\\n",
       "\t Algeria     & 2268.607 & 2305.505 & 2254.328 & 2316.679 & 2432.717 & 2753.697 & 2698.915 & 2705.111 & 2143.742 & ⋯ & 4118.839 & 3953.576 & 3304.865 & 3659.531 & 4151.437 & 4162.176 & 4242.401 & 4371.569 & 4523.644 & 4637.342\\\\\n",
       "\t ⋮ & ⋮ & ⋮ & ⋮ & ⋮ & ⋮ & ⋮ & ⋮ & ⋮ & ⋮ & ⋱ & ⋮ & ⋮ & ⋮ & ⋮ & ⋮ & ⋮ & ⋮ & ⋮ & ⋮ & ⋮\\\\\n",
       "\t Other advanced economies & 6886.485 & 6930.571 & 6792.923 & 6699.744 & 6948.341 & 6861.781 & 8292.104 & 10106.092 & 11787.179 & ⋯ & 44142.030 & 43022.850 & 42555.028 & 48965.722 & 49580.11 & 51398.605 & 53529.015 & 55708.932 & 57993.545 & 60331.76\\\\\n",
       "\t Sub-Saharan Africa       &       NA &       NA &       NA &       NA &       NA &       NA &       NA &        NA &        NA & ⋯ &  1760.388 &  1727.391 &  1591.065 &  1746.345 &  1849.62 &  1933.069 &  2043.649 &  2160.323 &  2287.835 &  2421.53\\\\\n",
       "\t World                    & 2862.333 & 2876.220 & 2772.215 & 2797.085 & 2846.673 & 2920.230 & 3376.821 &  3820.734 &  4222.994 & ⋯ & 11489.302 & 11558.645 & 11155.514 & 12616.281 & 13396.10 & 13923.716 & 14522.871 & 15149.837 & 15810.007 & 16490.80\\\\\n",
       "\\end{tabular}\n"
      ],
      "text/markdown": [
       "\n",
       "A spec_tbl_df: 228 × 49\n",
       "\n",
       "| Country &lt;chr&gt; | 1980 &lt;dbl&gt; | 1981 &lt;dbl&gt; | 1982 &lt;dbl&gt; | 1983 &lt;dbl&gt; | 1984 &lt;dbl&gt; | 1985 &lt;dbl&gt; | 1986 &lt;dbl&gt; | 1987 &lt;dbl&gt; | 1988 &lt;dbl&gt; | ⋯ ⋯ | 2018 &lt;dbl&gt; | 2019 &lt;dbl&gt; | 2020 &lt;dbl&gt; | 2021 &lt;dbl&gt; | 2022 &lt;dbl&gt; | 2023 &lt;dbl&gt; | 2024 &lt;dbl&gt; | 2025 &lt;dbl&gt; | 2026 &lt;dbl&gt; | 2027 &lt;dbl&gt; |\n",
       "|---|---|---|---|---|---|---|---|---|---|---|---|---|---|---|---|---|---|---|---|---|\n",
       "| Afghanistan |       NA |       NA |       NA |       NA |       NA |       NA |       NA |       NA |       NA | ⋯ |  582.323 |  586.204 |  611.268 |       NA |       NA |       NA |       NA |       NA |       NA |       NA |\n",
       "| Albania     |  728.359 |  817.734 |  824.542 |  815.529 |  788.332 |  788.801 |  855.724 |  832.245 |  805.046 | ⋯ | 5257.714 | 5345.058 | 5268.239 | 6373.300 | 6369.009 | 6591.682 | 6968.694 | 7470.082 | 7958.016 | 8469.507 |\n",
       "| Algeria     | 2268.607 | 2305.505 | 2254.328 | 2316.679 | 2432.717 | 2753.697 | 2698.915 | 2705.111 | 2143.742 | ⋯ | 4118.839 | 3953.576 | 3304.865 | 3659.531 | 4151.437 | 4162.176 | 4242.401 | 4371.569 | 4523.644 | 4637.342 |\n",
       "| ⋮ | ⋮ | ⋮ | ⋮ | ⋮ | ⋮ | ⋮ | ⋮ | ⋮ | ⋮ | ⋱ | ⋮ | ⋮ | ⋮ | ⋮ | ⋮ | ⋮ | ⋮ | ⋮ | ⋮ | ⋮ |\n",
       "| Other advanced economies | 6886.485 | 6930.571 | 6792.923 | 6699.744 | 6948.341 | 6861.781 | 8292.104 | 10106.092 | 11787.179 | ⋯ | 44142.030 | 43022.850 | 42555.028 | 48965.722 | 49580.11 | 51398.605 | 53529.015 | 55708.932 | 57993.545 | 60331.76 |\n",
       "| Sub-Saharan Africa       |       NA |       NA |       NA |       NA |       NA |       NA |       NA |        NA |        NA | ⋯ |  1760.388 |  1727.391 |  1591.065 |  1746.345 |  1849.62 |  1933.069 |  2043.649 |  2160.323 |  2287.835 |  2421.53 |\n",
       "| World                    | 2862.333 | 2876.220 | 2772.215 | 2797.085 | 2846.673 | 2920.230 | 3376.821 |  3820.734 |  4222.994 | ⋯ | 11489.302 | 11558.645 | 11155.514 | 12616.281 | 13396.10 | 13923.716 | 14522.871 | 15149.837 | 15810.007 | 16490.80 |\n",
       "\n"
      ],
      "text/plain": [
       "    Country                  1980     1981     1982     1983     1984    \n",
       "1   Afghanistan                    NA       NA       NA       NA       NA\n",
       "2   Albania                   728.359  817.734  824.542  815.529  788.332\n",
       "3   Algeria                  2268.607 2305.505 2254.328 2316.679 2432.717\n",
       "⋮   ⋮                        ⋮        ⋮        ⋮        ⋮        ⋮       \n",
       "226 Other advanced economies 6886.485 6930.571 6792.923 6699.744 6948.341\n",
       "227 Sub-Saharan Africa             NA       NA       NA       NA       NA\n",
       "228 World                    2862.333 2876.220 2772.215 2797.085 2846.673\n",
       "    1985     1986     1987      1988      ⋯ 2018      2019      2020     \n",
       "1         NA       NA       NA        NA  ⋯  582.323   586.204   611.268 \n",
       "2    788.801  855.724  832.245   805.046  ⋯ 5257.714  5345.058  5268.239 \n",
       "3   2753.697 2698.915 2705.111  2143.742  ⋯ 4118.839  3953.576  3304.865 \n",
       "⋮   ⋮        ⋮        ⋮         ⋮         ⋱ ⋮         ⋮         ⋮        \n",
       "226 6861.781 8292.104 10106.092 11787.179 ⋯ 44142.030 43022.850 42555.028\n",
       "227       NA       NA        NA        NA ⋯  1760.388  1727.391  1591.065\n",
       "228 2920.230 3376.821  3820.734  4222.994 ⋯ 11489.302 11558.645 11155.514\n",
       "    2021      2022     2023      2024      2025      2026      2027    \n",
       "1         NA        NA       NA        NA        NA        NA        NA\n",
       "2   6373.300  6369.009 6591.682  6968.694  7470.082  7958.016  8469.507\n",
       "3   3659.531  4151.437 4162.176  4242.401  4371.569  4523.644  4637.342\n",
       "⋮   ⋮         ⋮        ⋮         ⋮         ⋮         ⋮         ⋮       \n",
       "226 48965.722 49580.11 51398.605 53529.015 55708.932 57993.545 60331.76\n",
       "227  1746.345  1849.62  1933.069  2043.649  2160.323  2287.835  2421.53\n",
       "228 12616.281 13396.10 13923.716 14522.871 15149.837 15810.007 16490.80"
      ]
     },
     "metadata": {},
     "output_type": "display_data"
    },
    {
     "name": "stderr",
     "output_type": "stream",
     "text": [
      "\u001b[1mRows: \u001b[22m\u001b[34m228\u001b[39m \u001b[1mColumns: \u001b[22m\u001b[34m49\u001b[39m\n",
      "\u001b[36m──\u001b[39m \u001b[1mColumn specification\u001b[22m \u001b[36m────────────────────────────────────────────────────────\u001b[39m\n",
      "\u001b[1mDelimiter:\u001b[22m \",\"\n",
      "\u001b[31mchr\u001b[39m  (1): Country\n",
      "\u001b[32mdbl\u001b[39m (48): 1980, 1981, 1982, 1983, 1984, 1985, 1986, 1987, 1988, 1989, 1990, ...\n",
      "\n",
      "\u001b[36mℹ\u001b[39m Use `spec()` to retrieve the full column specification for this data.\n",
      "\u001b[36mℹ\u001b[39m Specify the column types or set `show_col_types = FALSE` to quiet this message.\n"
     ]
    },
    {
     "data": {
      "text/html": [
       "<table class=\"dataframe\">\n",
       "<caption>A spec_tbl_df: 228 × 49</caption>\n",
       "<thead>\n",
       "\t<tr><th scope=col>Country</th><th scope=col>1980</th><th scope=col>1981</th><th scope=col>1982</th><th scope=col>1983</th><th scope=col>1984</th><th scope=col>1985</th><th scope=col>1986</th><th scope=col>1987</th><th scope=col>1988</th><th scope=col>⋯</th><th scope=col>2018</th><th scope=col>2019</th><th scope=col>2020</th><th scope=col>2021</th><th scope=col>2022</th><th scope=col>2023</th><th scope=col>2024</th><th scope=col>2025</th><th scope=col>2026</th><th scope=col>2027</th></tr>\n",
       "\t<tr><th scope=col>&lt;chr&gt;</th><th scope=col>&lt;dbl&gt;</th><th scope=col>&lt;dbl&gt;</th><th scope=col>&lt;dbl&gt;</th><th scope=col>&lt;dbl&gt;</th><th scope=col>&lt;dbl&gt;</th><th scope=col>&lt;dbl&gt;</th><th scope=col>&lt;dbl&gt;</th><th scope=col>&lt;dbl&gt;</th><th scope=col>&lt;dbl&gt;</th><th scope=col>⋯</th><th scope=col>&lt;dbl&gt;</th><th scope=col>&lt;dbl&gt;</th><th scope=col>&lt;dbl&gt;</th><th scope=col>&lt;dbl&gt;</th><th scope=col>&lt;dbl&gt;</th><th scope=col>&lt;dbl&gt;</th><th scope=col>&lt;dbl&gt;</th><th scope=col>&lt;dbl&gt;</th><th scope=col>&lt;dbl&gt;</th><th scope=col>&lt;dbl&gt;</th></tr>\n",
       "</thead>\n",
       "<tbody>\n",
       "\t<tr><td>Afghanistan</td><td>  NA</td><td> NA</td><td> NA</td><td> NA</td><td> NA</td><td>  NA</td><td>  NA</td><td>  NA</td><td>  NA</td><td>⋯</td><td>1.2</td><td>3.9</td><td>-2.4</td><td> NA</td><td> NA</td><td> NA</td><td> NA</td><td> NA</td><td> NA</td><td> NA</td></tr>\n",
       "\t<tr><td>Albania    </td><td> 2.7</td><td>5.7</td><td>2.9</td><td>1.1</td><td>2.0</td><td>-1.5</td><td> 5.6</td><td>-0.8</td><td>-1.4</td><td>⋯</td><td>4.0</td><td>2.1</td><td>-3.5</td><td>8.5</td><td>4.0</td><td>2.5</td><td>3.2</td><td>3.2</td><td>3.4</td><td>3.4</td></tr>\n",
       "\t<tr><td>Algeria    </td><td>-5.4</td><td>3.0</td><td>6.4</td><td>5.4</td><td>5.6</td><td> 5.6</td><td>-0.2</td><td>-0.7</td><td>-1.9</td><td>⋯</td><td>1.2</td><td>1.0</td><td>-5.1</td><td>3.5</td><td>4.7</td><td>2.6</td><td>2.0</td><td>1.9</td><td>1.9</td><td>1.7</td></tr>\n",
       "\t<tr><td>⋮</td><td>⋮</td><td>⋮</td><td>⋮</td><td>⋮</td><td>⋮</td><td>⋮</td><td>⋮</td><td>⋮</td><td>⋮</td><td>⋱</td><td>⋮</td><td>⋮</td><td>⋮</td><td>⋮</td><td>⋮</td><td>⋮</td><td>⋮</td><td>⋮</td><td>⋮</td><td>⋮</td></tr>\n",
       "\t<tr><td>Other advanced economies</td><td>3.8</td><td>4.2</td><td>2.2</td><td>4.0</td><td>6.6</td><td>4.3</td><td>5.5</td><td>6.5</td><td>5.5</td><td>⋯</td><td>2.8</td><td>2.0</td><td>-1.7</td><td>5.3</td><td>2.8</td><td>2.3</td><td>2.6</td><td>2.3</td><td>2.3</td><td>2.2</td></tr>\n",
       "\t<tr><td>Sub-Saharan Africa      </td><td> NA</td><td> NA</td><td> NA</td><td> NA</td><td> NA</td><td> NA</td><td> NA</td><td> NA</td><td> NA</td><td>⋯</td><td>3.3</td><td>3.2</td><td>-1.6</td><td>4.7</td><td>3.6</td><td>3.7</td><td>4.1</td><td>4.2</td><td>4.3</td><td>4.4</td></tr>\n",
       "\t<tr><td>World                   </td><td>2.1</td><td>2.0</td><td>0.7</td><td>2.7</td><td>4.6</td><td>3.7</td><td>3.6</td><td>3.9</td><td>4.7</td><td>⋯</td><td>3.6</td><td>2.8</td><td>-3.0</td><td>6.0</td><td>3.2</td><td>2.7</td><td>3.2</td><td>3.4</td><td>3.3</td><td>3.2</td></tr>\n",
       "</tbody>\n",
       "</table>\n"
      ],
      "text/latex": [
       "A spec\\_tbl\\_df: 228 × 49\n",
       "\\begin{tabular}{lllllllllllllllllllll}\n",
       " Country & 1980 & 1981 & 1982 & 1983 & 1984 & 1985 & 1986 & 1987 & 1988 & ⋯ & 2018 & 2019 & 2020 & 2021 & 2022 & 2023 & 2024 & 2025 & 2026 & 2027\\\\\n",
       " <chr> & <dbl> & <dbl> & <dbl> & <dbl> & <dbl> & <dbl> & <dbl> & <dbl> & <dbl> & ⋯ & <dbl> & <dbl> & <dbl> & <dbl> & <dbl> & <dbl> & <dbl> & <dbl> & <dbl> & <dbl>\\\\\n",
       "\\hline\n",
       "\t Afghanistan &   NA &  NA &  NA &  NA &  NA &   NA &   NA &   NA &   NA & ⋯ & 1.2 & 3.9 & -2.4 &  NA &  NA &  NA &  NA &  NA &  NA &  NA\\\\\n",
       "\t Albania     &  2.7 & 5.7 & 2.9 & 1.1 & 2.0 & -1.5 &  5.6 & -0.8 & -1.4 & ⋯ & 4.0 & 2.1 & -3.5 & 8.5 & 4.0 & 2.5 & 3.2 & 3.2 & 3.4 & 3.4\\\\\n",
       "\t Algeria     & -5.4 & 3.0 & 6.4 & 5.4 & 5.6 &  5.6 & -0.2 & -0.7 & -1.9 & ⋯ & 1.2 & 1.0 & -5.1 & 3.5 & 4.7 & 2.6 & 2.0 & 1.9 & 1.9 & 1.7\\\\\n",
       "\t ⋮ & ⋮ & ⋮ & ⋮ & ⋮ & ⋮ & ⋮ & ⋮ & ⋮ & ⋮ & ⋱ & ⋮ & ⋮ & ⋮ & ⋮ & ⋮ & ⋮ & ⋮ & ⋮ & ⋮ & ⋮\\\\\n",
       "\t Other advanced economies & 3.8 & 4.2 & 2.2 & 4.0 & 6.6 & 4.3 & 5.5 & 6.5 & 5.5 & ⋯ & 2.8 & 2.0 & -1.7 & 5.3 & 2.8 & 2.3 & 2.6 & 2.3 & 2.3 & 2.2\\\\\n",
       "\t Sub-Saharan Africa       &  NA &  NA &  NA &  NA &  NA &  NA &  NA &  NA &  NA & ⋯ & 3.3 & 3.2 & -1.6 & 4.7 & 3.6 & 3.7 & 4.1 & 4.2 & 4.3 & 4.4\\\\\n",
       "\t World                    & 2.1 & 2.0 & 0.7 & 2.7 & 4.6 & 3.7 & 3.6 & 3.9 & 4.7 & ⋯ & 3.6 & 2.8 & -3.0 & 6.0 & 3.2 & 2.7 & 3.2 & 3.4 & 3.3 & 3.2\\\\\n",
       "\\end{tabular}\n"
      ],
      "text/markdown": [
       "\n",
       "A spec_tbl_df: 228 × 49\n",
       "\n",
       "| Country &lt;chr&gt; | 1980 &lt;dbl&gt; | 1981 &lt;dbl&gt; | 1982 &lt;dbl&gt; | 1983 &lt;dbl&gt; | 1984 &lt;dbl&gt; | 1985 &lt;dbl&gt; | 1986 &lt;dbl&gt; | 1987 &lt;dbl&gt; | 1988 &lt;dbl&gt; | ⋯ ⋯ | 2018 &lt;dbl&gt; | 2019 &lt;dbl&gt; | 2020 &lt;dbl&gt; | 2021 &lt;dbl&gt; | 2022 &lt;dbl&gt; | 2023 &lt;dbl&gt; | 2024 &lt;dbl&gt; | 2025 &lt;dbl&gt; | 2026 &lt;dbl&gt; | 2027 &lt;dbl&gt; |\n",
       "|---|---|---|---|---|---|---|---|---|---|---|---|---|---|---|---|---|---|---|---|---|\n",
       "| Afghanistan |   NA |  NA |  NA |  NA |  NA |   NA |   NA |   NA |   NA | ⋯ | 1.2 | 3.9 | -2.4 |  NA |  NA |  NA |  NA |  NA |  NA |  NA |\n",
       "| Albania     |  2.7 | 5.7 | 2.9 | 1.1 | 2.0 | -1.5 |  5.6 | -0.8 | -1.4 | ⋯ | 4.0 | 2.1 | -3.5 | 8.5 | 4.0 | 2.5 | 3.2 | 3.2 | 3.4 | 3.4 |\n",
       "| Algeria     | -5.4 | 3.0 | 6.4 | 5.4 | 5.6 |  5.6 | -0.2 | -0.7 | -1.9 | ⋯ | 1.2 | 1.0 | -5.1 | 3.5 | 4.7 | 2.6 | 2.0 | 1.9 | 1.9 | 1.7 |\n",
       "| ⋮ | ⋮ | ⋮ | ⋮ | ⋮ | ⋮ | ⋮ | ⋮ | ⋮ | ⋮ | ⋱ | ⋮ | ⋮ | ⋮ | ⋮ | ⋮ | ⋮ | ⋮ | ⋮ | ⋮ | ⋮ |\n",
       "| Other advanced economies | 3.8 | 4.2 | 2.2 | 4.0 | 6.6 | 4.3 | 5.5 | 6.5 | 5.5 | ⋯ | 2.8 | 2.0 | -1.7 | 5.3 | 2.8 | 2.3 | 2.6 | 2.3 | 2.3 | 2.2 |\n",
       "| Sub-Saharan Africa       |  NA |  NA |  NA |  NA |  NA |  NA |  NA |  NA |  NA | ⋯ | 3.3 | 3.2 | -1.6 | 4.7 | 3.6 | 3.7 | 4.1 | 4.2 | 4.3 | 4.4 |\n",
       "| World                    | 2.1 | 2.0 | 0.7 | 2.7 | 4.6 | 3.7 | 3.6 | 3.9 | 4.7 | ⋯ | 3.6 | 2.8 | -3.0 | 6.0 | 3.2 | 2.7 | 3.2 | 3.4 | 3.3 | 3.2 |\n",
       "\n"
      ],
      "text/plain": [
       "    Country                  1980 1981 1982 1983 1984 1985 1986 1987 1988 ⋯\n",
       "1   Afghanistan                NA  NA   NA   NA   NA    NA   NA   NA   NA ⋯\n",
       "2   Albania                   2.7 5.7  2.9  1.1  2.0  -1.5  5.6 -0.8 -1.4 ⋯\n",
       "3   Algeria                  -5.4 3.0  6.4  5.4  5.6   5.6 -0.2 -0.7 -1.9 ⋯\n",
       "⋮   ⋮                        ⋮    ⋮    ⋮    ⋮    ⋮    ⋮    ⋮    ⋮    ⋮    ⋱\n",
       "226 Other advanced economies 3.8  4.2  2.2  4.0  6.6  4.3  5.5  6.5  5.5  ⋯\n",
       "227 Sub-Saharan Africa        NA   NA   NA   NA   NA   NA   NA   NA   NA  ⋯\n",
       "228 World                    2.1  2.0  0.7  2.7  4.6  3.7  3.6  3.9  4.7  ⋯\n",
       "    2018 2019 2020 2021 2022 2023 2024 2025 2026 2027\n",
       "1   1.2  3.9  -2.4  NA   NA   NA   NA   NA   NA   NA \n",
       "2   4.0  2.1  -3.5 8.5  4.0  2.5  3.2  3.2  3.4  3.4 \n",
       "3   1.2  1.0  -5.1 3.5  4.7  2.6  2.0  1.9  1.9  1.7 \n",
       "⋮   ⋮    ⋮    ⋮    ⋮    ⋮    ⋮    ⋮    ⋮    ⋮    ⋮   \n",
       "226 2.8  2.0  -1.7 5.3  2.8  2.3  2.6  2.3  2.3  2.2 \n",
       "227 3.3  3.2  -1.6 4.7  3.6  3.7  4.1  4.2  4.3  4.4 \n",
       "228 3.6  2.8  -3.0 6.0  3.2  2.7  3.2  3.4  3.3  3.2 "
      ]
     },
     "metadata": {},
     "output_type": "display_data"
    },
    {
     "name": "stderr",
     "output_type": "stream",
     "text": [
      "\u001b[1mRows: \u001b[22m\u001b[34m76\u001b[39m \u001b[1mColumns: \u001b[22m\u001b[34m14\u001b[39m\n",
      "\u001b[36m──\u001b[39m \u001b[1mColumn specification\u001b[22m \u001b[36m────────────────────────────────────────────────────────\u001b[39m\n",
      "\u001b[1mDelimiter:\u001b[22m \",\"\n",
      "\u001b[31mchr\u001b[39m  (2): Team, P2+\n",
      "\u001b[32mdbl\u001b[39m (12): FT1, FT2, G, W, D, L, G+, G-, GD, P%, P+, P3+\n",
      "\n",
      "\u001b[36mℹ\u001b[39m Use `spec()` to retrieve the full column specification for this data.\n",
      "\u001b[36mℹ\u001b[39m Specify the column types or set `show_col_types = FALSE` to quiet this message.\n"
     ]
    },
    {
     "data": {
      "text/html": [
       "<table class=\"dataframe\">\n",
       "<caption>A spec_tbl_df: 76 × 14</caption>\n",
       "<thead>\n",
       "\t<tr><th scope=col>Team</th><th scope=col>FT1</th><th scope=col>FT2</th><th scope=col>G</th><th scope=col>W</th><th scope=col>D</th><th scope=col>L</th><th scope=col>G+</th><th scope=col>G-</th><th scope=col>GD</th><th scope=col>P2+</th><th scope=col>P%</th><th scope=col>P+</th><th scope=col>P3+</th></tr>\n",
       "\t<tr><th scope=col>&lt;chr&gt;</th><th scope=col>&lt;dbl&gt;</th><th scope=col>&lt;dbl&gt;</th><th scope=col>&lt;dbl&gt;</th><th scope=col>&lt;dbl&gt;</th><th scope=col>&lt;dbl&gt;</th><th scope=col>&lt;dbl&gt;</th><th scope=col>&lt;dbl&gt;</th><th scope=col>&lt;dbl&gt;</th><th scope=col>&lt;dbl&gt;</th><th scope=col>&lt;chr&gt;</th><th scope=col>&lt;dbl&gt;</th><th scope=col>&lt;dbl&gt;</th><th scope=col>&lt;dbl&gt;</th></tr>\n",
       "</thead>\n",
       "<tbody>\n",
       "\t<tr><td>Brazil </td><td>20</td><td>20</td><td>104</td><td>71</td><td>16</td><td>17</td><td>221</td><td>102</td><td>119</td><td>158:50:00</td><td>0.760</td><td>185</td><td>229</td></tr>\n",
       "\t<tr><td>Germany</td><td>18</td><td>16</td><td>106</td><td>66</td><td>20</td><td>20</td><td>224</td><td>121</td><td>103</td><td>152:60   </td><td>0.717</td><td>179</td><td>218</td></tr>\n",
       "\t<tr><td>Italy  </td><td>18</td><td>14</td><td> 83</td><td>45</td><td>20</td><td>18</td><td>128</td><td> 77</td><td> 51</td><td>110:56:00</td><td>0.663</td><td>124</td><td>155</td></tr>\n",
       "\t<tr><td>⋮</td><td>⋮</td><td>⋮</td><td>⋮</td><td>⋮</td><td>⋮</td><td>⋮</td><td>⋮</td><td>⋮</td><td>⋮</td><td>⋮</td><td>⋮</td><td>⋮</td><td>⋮</td></tr>\n",
       "\t<tr><td>Haiti      </td><td>1</td><td>-10</td><td>3</td><td>0</td><td>0</td><td>3</td><td>2</td><td>14</td><td>-12</td><td>0:06</td><td>0</td><td>0</td><td>0</td></tr>\n",
       "\t<tr><td>Zaire      </td><td>1</td><td>-10</td><td>3</td><td>0</td><td>0</td><td>3</td><td>0</td><td>14</td><td>-14</td><td>0:06</td><td>0</td><td>0</td><td>0</td></tr>\n",
       "\t<tr><td>El Salvador</td><td>2</td><td> -8</td><td>6</td><td>0</td><td>0</td><td>6</td><td>1</td><td>22</td><td>-21</td><td>0:12</td><td>0</td><td>0</td><td>0</td></tr>\n",
       "</tbody>\n",
       "</table>\n"
      ],
      "text/latex": [
       "A spec\\_tbl\\_df: 76 × 14\n",
       "\\begin{tabular}{llllllllllllll}\n",
       " Team & FT1 & FT2 & G & W & D & L & G+ & G- & GD & P2+ & P\\% & P+ & P3+\\\\\n",
       " <chr> & <dbl> & <dbl> & <dbl> & <dbl> & <dbl> & <dbl> & <dbl> & <dbl> & <dbl> & <chr> & <dbl> & <dbl> & <dbl>\\\\\n",
       "\\hline\n",
       "\t Brazil  & 20 & 20 & 104 & 71 & 16 & 17 & 221 & 102 & 119 & 158:50:00 & 0.760 & 185 & 229\\\\\n",
       "\t Germany & 18 & 16 & 106 & 66 & 20 & 20 & 224 & 121 & 103 & 152:60    & 0.717 & 179 & 218\\\\\n",
       "\t Italy   & 18 & 14 &  83 & 45 & 20 & 18 & 128 &  77 &  51 & 110:56:00 & 0.663 & 124 & 155\\\\\n",
       "\t ⋮ & ⋮ & ⋮ & ⋮ & ⋮ & ⋮ & ⋮ & ⋮ & ⋮ & ⋮ & ⋮ & ⋮ & ⋮ & ⋮\\\\\n",
       "\t Haiti       & 1 & -10 & 3 & 0 & 0 & 3 & 2 & 14 & -12 & 0:06 & 0 & 0 & 0\\\\\n",
       "\t Zaire       & 1 & -10 & 3 & 0 & 0 & 3 & 0 & 14 & -14 & 0:06 & 0 & 0 & 0\\\\\n",
       "\t El Salvador & 2 &  -8 & 6 & 0 & 0 & 6 & 1 & 22 & -21 & 0:12 & 0 & 0 & 0\\\\\n",
       "\\end{tabular}\n"
      ],
      "text/markdown": [
       "\n",
       "A spec_tbl_df: 76 × 14\n",
       "\n",
       "| Team &lt;chr&gt; | FT1 &lt;dbl&gt; | FT2 &lt;dbl&gt; | G &lt;dbl&gt; | W &lt;dbl&gt; | D &lt;dbl&gt; | L &lt;dbl&gt; | G+ &lt;dbl&gt; | G- &lt;dbl&gt; | GD &lt;dbl&gt; | P2+ &lt;chr&gt; | P% &lt;dbl&gt; | P+ &lt;dbl&gt; | P3+ &lt;dbl&gt; |\n",
       "|---|---|---|---|---|---|---|---|---|---|---|---|---|---|\n",
       "| Brazil  | 20 | 20 | 104 | 71 | 16 | 17 | 221 | 102 | 119 | 158:50:00 | 0.760 | 185 | 229 |\n",
       "| Germany | 18 | 16 | 106 | 66 | 20 | 20 | 224 | 121 | 103 | 152:60    | 0.717 | 179 | 218 |\n",
       "| Italy   | 18 | 14 |  83 | 45 | 20 | 18 | 128 |  77 |  51 | 110:56:00 | 0.663 | 124 | 155 |\n",
       "| ⋮ | ⋮ | ⋮ | ⋮ | ⋮ | ⋮ | ⋮ | ⋮ | ⋮ | ⋮ | ⋮ | ⋮ | ⋮ | ⋮ |\n",
       "| Haiti       | 1 | -10 | 3 | 0 | 0 | 3 | 2 | 14 | -12 | 0:06 | 0 | 0 | 0 |\n",
       "| Zaire       | 1 | -10 | 3 | 0 | 0 | 3 | 0 | 14 | -14 | 0:06 | 0 | 0 | 0 |\n",
       "| El Salvador | 2 |  -8 | 6 | 0 | 0 | 6 | 1 | 22 | -21 | 0:12 | 0 | 0 | 0 |\n",
       "\n"
      ],
      "text/plain": [
       "   Team        FT1 FT2 G   W  D  L  G+  G-  GD  P2+       P%    P+  P3+\n",
       "1  Brazil      20  20  104 71 16 17 221 102 119 158:50:00 0.760 185 229\n",
       "2  Germany     18  16  106 66 20 20 224 121 103 152:60    0.717 179 218\n",
       "3  Italy       18  14   83 45 20 18 128  77  51 110:56:00 0.663 124 155\n",
       "⋮  ⋮           ⋮   ⋮   ⋮   ⋮  ⋮  ⋮  ⋮   ⋮   ⋮   ⋮         ⋮     ⋮   ⋮  \n",
       "74 Haiti       1   -10 3   0  0  3  2   14  -12 0:06      0     0   0  \n",
       "75 Zaire       1   -10 3   0  0  3  0   14  -14 0:06      0     0   0  \n",
       "76 El Salvador 2    -8 6   0  0  6  1   22  -21 0:12      0     0   0  "
      ]
     },
     "metadata": {},
     "output_type": "display_data"
    }
   ],
   "source": [
    "# Loading all data needed for this project\n",
    "\n",
    "# Loading IMF data for country GDPs from 1980 to 2027\n",
    "country_gdp_capita <- read_csv(\"data/Country_GDP_Capita_IMF.csv\")\n",
    "country_gdp_capita\n",
    "\n",
    "# Loading IMF data for country GDP Growth from 1980 to 2027\n",
    "country_gdp_growth <- read_csv(\"data/Country_GDP_Growth_IMF.csv\")\n",
    "country_gdp_growth \n",
    "\n",
    "\n",
    "# Loading soccer_data\n",
    "# soccer_data <- read_csv(\"data/SoccerDataWorldCup.csv\")\n",
    "# soccer_data\n",
    "\n",
    "soccer_data <- read_csv(\"data/SoccerDataWorldCupTournament.csv\")\n",
    "soccer_data"
   ]
  },
  {
   "cell_type": "markdown",
   "id": "dd925de2-8e9f-4bba-ad59-ab9f58def223",
   "metadata": {},
   "source": [
    "## Preliminary exploratory data analysis\n"
   ]
  },
  {
   "cell_type": "code",
   "execution_count": 3,
   "id": "8c428f7b-aebf-4560-9522-8cf2351c09f9",
   "metadata": {},
   "outputs": [
    {
     "data": {
      "text/html": [
       "<table class=\"dataframe\">\n",
       "<caption>A tibble: 10007 × 3</caption>\n",
       "<thead>\n",
       "\t<tr><th scope=col>Country</th><th scope=col>Year</th><th scope=col>GDP_Capita</th></tr>\n",
       "\t<tr><th scope=col>&lt;chr&gt;</th><th scope=col>&lt;dbl&gt;</th><th scope=col>&lt;dbl&gt;</th></tr>\n",
       "</thead>\n",
       "<tbody>\n",
       "\t<tr><td>Afghanistan</td><td>2002</td><td>233.433</td></tr>\n",
       "\t<tr><td>Afghanistan</td><td>2003</td><td>233.755</td></tr>\n",
       "\t<tr><td>Afghanistan</td><td>2004</td><td>254.259</td></tr>\n",
       "\t<tr><td>⋮</td><td>⋮</td><td>⋮</td></tr>\n",
       "\t<tr><td>World</td><td>2025</td><td>15149.84</td></tr>\n",
       "\t<tr><td>World</td><td>2026</td><td>15810.01</td></tr>\n",
       "\t<tr><td>World</td><td>2027</td><td>16490.80</td></tr>\n",
       "</tbody>\n",
       "</table>\n"
      ],
      "text/latex": [
       "A tibble: 10007 × 3\n",
       "\\begin{tabular}{lll}\n",
       " Country & Year & GDP\\_Capita\\\\\n",
       " <chr> & <dbl> & <dbl>\\\\\n",
       "\\hline\n",
       "\t Afghanistan & 2002 & 233.433\\\\\n",
       "\t Afghanistan & 2003 & 233.755\\\\\n",
       "\t Afghanistan & 2004 & 254.259\\\\\n",
       "\t ⋮ & ⋮ & ⋮\\\\\n",
       "\t World & 2025 & 15149.84\\\\\n",
       "\t World & 2026 & 15810.01\\\\\n",
       "\t World & 2027 & 16490.80\\\\\n",
       "\\end{tabular}\n"
      ],
      "text/markdown": [
       "\n",
       "A tibble: 10007 × 3\n",
       "\n",
       "| Country &lt;chr&gt; | Year &lt;dbl&gt; | GDP_Capita &lt;dbl&gt; |\n",
       "|---|---|---|\n",
       "| Afghanistan | 2002 | 233.433 |\n",
       "| Afghanistan | 2003 | 233.755 |\n",
       "| Afghanistan | 2004 | 254.259 |\n",
       "| ⋮ | ⋮ | ⋮ |\n",
       "| World | 2025 | 15149.84 |\n",
       "| World | 2026 | 15810.01 |\n",
       "| World | 2027 | 16490.80 |\n",
       "\n"
      ],
      "text/plain": [
       "      Country     Year GDP_Capita\n",
       "1     Afghanistan 2002 233.433   \n",
       "2     Afghanistan 2003 233.755   \n",
       "3     Afghanistan 2004 254.259   \n",
       "⋮     ⋮           ⋮    ⋮         \n",
       "10005 World       2025 15149.84  \n",
       "10006 World       2026 15810.01  \n",
       "10007 World       2027 16490.80  "
      ]
     },
     "metadata": {},
     "output_type": "display_data"
    },
    {
     "data": {
      "text/html": [
       "<table class=\"dataframe\">\n",
       "<caption>A tibble: 10067 × 3</caption>\n",
       "<thead>\n",
       "\t<tr><th scope=col>Country</th><th scope=col>Year</th><th scope=col>GDP_Growth</th></tr>\n",
       "\t<tr><th scope=col>&lt;chr&gt;</th><th scope=col>&lt;dbl&gt;</th><th scope=col>&lt;dbl&gt;</th></tr>\n",
       "</thead>\n",
       "<tbody>\n",
       "\t<tr><td>Afghanistan</td><td>2003</td><td> 8.7</td></tr>\n",
       "\t<tr><td>Afghanistan</td><td>2004</td><td> 0.7</td></tr>\n",
       "\t<tr><td>Afghanistan</td><td>2005</td><td>11.8</td></tr>\n",
       "\t<tr><td>⋮</td><td>⋮</td><td>⋮</td></tr>\n",
       "\t<tr><td>World</td><td>2025</td><td>3.4</td></tr>\n",
       "\t<tr><td>World</td><td>2026</td><td>3.3</td></tr>\n",
       "\t<tr><td>World</td><td>2027</td><td>3.2</td></tr>\n",
       "</tbody>\n",
       "</table>\n"
      ],
      "text/latex": [
       "A tibble: 10067 × 3\n",
       "\\begin{tabular}{lll}\n",
       " Country & Year & GDP\\_Growth\\\\\n",
       " <chr> & <dbl> & <dbl>\\\\\n",
       "\\hline\n",
       "\t Afghanistan & 2003 &  8.7\\\\\n",
       "\t Afghanistan & 2004 &  0.7\\\\\n",
       "\t Afghanistan & 2005 & 11.8\\\\\n",
       "\t ⋮ & ⋮ & ⋮\\\\\n",
       "\t World & 2025 & 3.4\\\\\n",
       "\t World & 2026 & 3.3\\\\\n",
       "\t World & 2027 & 3.2\\\\\n",
       "\\end{tabular}\n"
      ],
      "text/markdown": [
       "\n",
       "A tibble: 10067 × 3\n",
       "\n",
       "| Country &lt;chr&gt; | Year &lt;dbl&gt; | GDP_Growth &lt;dbl&gt; |\n",
       "|---|---|---|\n",
       "| Afghanistan | 2003 |  8.7 |\n",
       "| Afghanistan | 2004 |  0.7 |\n",
       "| Afghanistan | 2005 | 11.8 |\n",
       "| ⋮ | ⋮ | ⋮ |\n",
       "| World | 2025 | 3.4 |\n",
       "| World | 2026 | 3.3 |\n",
       "| World | 2027 | 3.2 |\n",
       "\n"
      ],
      "text/plain": [
       "      Country     Year GDP_Growth\n",
       "1     Afghanistan 2003  8.7      \n",
       "2     Afghanistan 2004  0.7      \n",
       "3     Afghanistan 2005 11.8      \n",
       "⋮     ⋮           ⋮    ⋮         \n",
       "10065 World       2025 3.4       \n",
       "10066 World       2026 3.3       \n",
       "10067 World       2027 3.2       "
      ]
     },
     "metadata": {},
     "output_type": "display_data"
    },
    {
     "name": "stderr",
     "output_type": "stream",
     "text": [
      "\u001b[1m\u001b[22mJoining, by = c(\"Country\", \"Year\")\n"
     ]
    },
    {
     "data": {
      "text/html": [
       "<table class=\"dataframe\">\n",
       "<caption>A tibble: 10007 × 4</caption>\n",
       "<thead>\n",
       "\t<tr><th scope=col>Country</th><th scope=col>Year</th><th scope=col>GDP_Capita</th><th scope=col>GDP_Growth</th></tr>\n",
       "\t<tr><th scope=col>&lt;chr&gt;</th><th scope=col>&lt;dbl&gt;</th><th scope=col>&lt;dbl&gt;</th><th scope=col>&lt;dbl&gt;</th></tr>\n",
       "</thead>\n",
       "<tbody>\n",
       "\t<tr><td>Afghanistan</td><td>2002</td><td>233.433</td><td> NA</td></tr>\n",
       "\t<tr><td>Afghanistan</td><td>2003</td><td>233.755</td><td>8.7</td></tr>\n",
       "\t<tr><td>Afghanistan</td><td>2004</td><td>254.259</td><td>0.7</td></tr>\n",
       "\t<tr><td>⋮</td><td>⋮</td><td>⋮</td><td>⋮</td></tr>\n",
       "\t<tr><td>World</td><td>2025</td><td>15149.84</td><td>3.4</td></tr>\n",
       "\t<tr><td>World</td><td>2026</td><td>15810.01</td><td>3.3</td></tr>\n",
       "\t<tr><td>World</td><td>2027</td><td>16490.80</td><td>3.2</td></tr>\n",
       "</tbody>\n",
       "</table>\n"
      ],
      "text/latex": [
       "A tibble: 10007 × 4\n",
       "\\begin{tabular}{llll}\n",
       " Country & Year & GDP\\_Capita & GDP\\_Growth\\\\\n",
       " <chr> & <dbl> & <dbl> & <dbl>\\\\\n",
       "\\hline\n",
       "\t Afghanistan & 2002 & 233.433 &  NA\\\\\n",
       "\t Afghanistan & 2003 & 233.755 & 8.7\\\\\n",
       "\t Afghanistan & 2004 & 254.259 & 0.7\\\\\n",
       "\t ⋮ & ⋮ & ⋮ & ⋮\\\\\n",
       "\t World & 2025 & 15149.84 & 3.4\\\\\n",
       "\t World & 2026 & 15810.01 & 3.3\\\\\n",
       "\t World & 2027 & 16490.80 & 3.2\\\\\n",
       "\\end{tabular}\n"
      ],
      "text/markdown": [
       "\n",
       "A tibble: 10007 × 4\n",
       "\n",
       "| Country &lt;chr&gt; | Year &lt;dbl&gt; | GDP_Capita &lt;dbl&gt; | GDP_Growth &lt;dbl&gt; |\n",
       "|---|---|---|---|\n",
       "| Afghanistan | 2002 | 233.433 |  NA |\n",
       "| Afghanistan | 2003 | 233.755 | 8.7 |\n",
       "| Afghanistan | 2004 | 254.259 | 0.7 |\n",
       "| ⋮ | ⋮ | ⋮ | ⋮ |\n",
       "| World | 2025 | 15149.84 | 3.4 |\n",
       "| World | 2026 | 15810.01 | 3.3 |\n",
       "| World | 2027 | 16490.80 | 3.2 |\n",
       "\n"
      ],
      "text/plain": [
       "      Country     Year GDP_Capita GDP_Growth\n",
       "1     Afghanistan 2002 233.433     NA       \n",
       "2     Afghanistan 2003 233.755    8.7       \n",
       "3     Afghanistan 2004 254.259    0.7       \n",
       "⋮     ⋮           ⋮    ⋮          ⋮         \n",
       "10005 World       2025 15149.84   3.4       \n",
       "10006 World       2026 15810.01   3.3       \n",
       "10007 World       2027 16490.80   3.2       "
      ]
     },
     "metadata": {},
     "output_type": "display_data"
    },
    {
     "data": {
      "text/html": [
       "<table class=\"dataframe\">\n",
       "<caption>A tibble: 6 × 2</caption>\n",
       "<thead>\n",
       "\t<tr><th scope=col>Country</th><th scope=col>Mean_GDP_Capita</th></tr>\n",
       "\t<tr><th scope=col>&lt;chr&gt;</th><th scope=col>&lt;dbl&gt;</th></tr>\n",
       "</thead>\n",
       "<tbody>\n",
       "\t<tr><td>Advanced economies</td><td>34047.0894</td></tr>\n",
       "\t<tr><td>Afghanistan       </td><td>  528.8195</td></tr>\n",
       "\t<tr><td>Africa (Region)   </td><td> 1658.5872</td></tr>\n",
       "\t<tr><td>Albania           </td><td> 2945.3290</td></tr>\n",
       "\t<tr><td>Algeria           </td><td> 3145.9694</td></tr>\n",
       "\t<tr><td>Andorra           </td><td>42957.6284</td></tr>\n",
       "</tbody>\n",
       "</table>\n"
      ],
      "text/latex": [
       "A tibble: 6 × 2\n",
       "\\begin{tabular}{ll}\n",
       " Country & Mean\\_GDP\\_Capita\\\\\n",
       " <chr> & <dbl>\\\\\n",
       "\\hline\n",
       "\t Advanced economies & 34047.0894\\\\\n",
       "\t Afghanistan        &   528.8195\\\\\n",
       "\t Africa (Region)    &  1658.5872\\\\\n",
       "\t Albania            &  2945.3290\\\\\n",
       "\t Algeria            &  3145.9694\\\\\n",
       "\t Andorra            & 42957.6284\\\\\n",
       "\\end{tabular}\n"
      ],
      "text/markdown": [
       "\n",
       "A tibble: 6 × 2\n",
       "\n",
       "| Country &lt;chr&gt; | Mean_GDP_Capita &lt;dbl&gt; |\n",
       "|---|---|\n",
       "| Advanced economies | 34047.0894 |\n",
       "| Afghanistan        |   528.8195 |\n",
       "| Africa (Region)    |  1658.5872 |\n",
       "| Albania            |  2945.3290 |\n",
       "| Algeria            |  3145.9694 |\n",
       "| Andorra            | 42957.6284 |\n",
       "\n"
      ],
      "text/plain": [
       "  Country            Mean_GDP_Capita\n",
       "1 Advanced economies 34047.0894     \n",
       "2 Afghanistan          528.8195     \n",
       "3 Africa (Region)     1658.5872     \n",
       "4 Albania             2945.3290     \n",
       "5 Algeria             3145.9694     \n",
       "6 Andorra            42957.6284     "
      ]
     },
     "metadata": {},
     "output_type": "display_data"
    }
   ],
   "source": [
    "# Tidy country_gdp data by pivoting it longer\n",
    "country_capita_longer <- country_gdp_capita |>\n",
    "    pivot_longer(cols = -Country,\n",
    "                names_to = \"Year\",\n",
    "                values_to = \"GDP_Capita\",\n",
    "                values_drop_na = TRUE) |>\n",
    "    mutate(Year = as.numeric(Year))\n",
    "country_capita_longer\n",
    "\n",
    "country_growth_longer <- country_gdp_growth |>\n",
    "        pivot_longer(cols = -Country,\n",
    "                names_to = \"Year\",\n",
    "                values_to = \"GDP_Growth\",\n",
    "                values_drop_na = TRUE) |>\n",
    "    mutate(Year = as.numeric(Year))\n",
    "country_growth_longer\n",
    "\n",
    "\n",
    "# Combine GDP capita data and GDP Growth\n",
    "\n",
    "country_gdp_data <- left_join(country_capita_longer, country_growth_longer, by = NULL, copy = FALSE, na_matches = \"na\")\n",
    "\n",
    "country_gdp_data\n",
    "    \n",
    "\n",
    "# Find the mean gdp for each country, since the soccer data spans from 1930 to 2020, the more coverage of each year, the more accurate\n",
    "country_mean_gdp_capita <- country_gdp_data |>\n",
    "    group_by(Country) |>\n",
    "    summarize(Mean_GDP_Capita = mean(GDP_Capita))\n",
    "\n",
    "head(country_mean_gdp_capita)\n"
   ]
  },
  {
   "cell_type": "code",
   "execution_count": 6,
   "id": "20e8c807-8892-4d7f-9435-9f232589b8ac",
   "metadata": {},
   "outputs": [
    {
     "data": {
      "text/html": [
       "<table class=\"dataframe\">\n",
       "<caption>A tibble: 76 × 3</caption>\n",
       "<thead>\n",
       "\t<tr><th scope=col>Country</th><th scope=col>P%</th><th scope=col>P3+</th></tr>\n",
       "\t<tr><th scope=col>&lt;chr&gt;</th><th scope=col>&lt;dbl&gt;</th><th scope=col>&lt;dbl&gt;</th></tr>\n",
       "</thead>\n",
       "<tbody>\n",
       "\t<tr><td>Brazil </td><td>0.760</td><td>229</td></tr>\n",
       "\t<tr><td>Germany</td><td>0.717</td><td>218</td></tr>\n",
       "\t<tr><td>Italy  </td><td>0.663</td><td>155</td></tr>\n",
       "\t<tr><td>⋮</td><td>⋮</td><td>⋮</td></tr>\n",
       "\t<tr><td>Haiti      </td><td>0</td><td>0</td></tr>\n",
       "\t<tr><td>Zaire      </td><td>0</td><td>0</td></tr>\n",
       "\t<tr><td>El Salvador</td><td>0</td><td>0</td></tr>\n",
       "</tbody>\n",
       "</table>\n"
      ],
      "text/latex": [
       "A tibble: 76 × 3\n",
       "\\begin{tabular}{lll}\n",
       " Country & P\\% & P3+\\\\\n",
       " <chr> & <dbl> & <dbl>\\\\\n",
       "\\hline\n",
       "\t Brazil  & 0.760 & 229\\\\\n",
       "\t Germany & 0.717 & 218\\\\\n",
       "\t Italy   & 0.663 & 155\\\\\n",
       "\t ⋮ & ⋮ & ⋮\\\\\n",
       "\t Haiti       & 0 & 0\\\\\n",
       "\t Zaire       & 0 & 0\\\\\n",
       "\t El Salvador & 0 & 0\\\\\n",
       "\\end{tabular}\n"
      ],
      "text/markdown": [
       "\n",
       "A tibble: 76 × 3\n",
       "\n",
       "| Country &lt;chr&gt; | P% &lt;dbl&gt; | P3+ &lt;dbl&gt; |\n",
       "|---|---|---|\n",
       "| Brazil  | 0.760 | 229 |\n",
       "| Germany | 0.717 | 218 |\n",
       "| Italy   | 0.663 | 155 |\n",
       "| ⋮ | ⋮ | ⋮ |\n",
       "| Haiti       | 0 | 0 |\n",
       "| Zaire       | 0 | 0 |\n",
       "| El Salvador | 0 | 0 |\n",
       "\n"
      ],
      "text/plain": [
       "   Country     P%    P3+\n",
       "1  Brazil      0.760 229\n",
       "2  Germany     0.717 218\n",
       "3  Italy       0.663 155\n",
       "⋮  ⋮           ⋮     ⋮  \n",
       "74 Haiti       0     0  \n",
       "75 Zaire       0     0  \n",
       "76 El Salvador 0     0  "
      ]
     },
     "metadata": {},
     "output_type": "display_data"
    },
    {
     "name": "stderr",
     "output_type": "stream",
     "text": [
      "\u001b[1m\u001b[22mJoining, by = \"Country\"\n"
     ]
    },
    {
     "data": {
      "text/html": [
       "<table class=\"dataframe\">\n",
       "<caption>A tibble: 56 × 4</caption>\n",
       "<thead>\n",
       "\t<tr><th scope=col>Country</th><th scope=col>Mean_GDP_Capita</th><th scope=col>P%</th><th scope=col>P3+</th></tr>\n",
       "\t<tr><th scope=col>&lt;chr&gt;</th><th scope=col>&lt;dbl&gt;</th><th scope=col>&lt;dbl&gt;</th><th scope=col>&lt;dbl&gt;</th></tr>\n",
       "</thead>\n",
       "<tbody>\n",
       "\t<tr><td>Algeria  </td><td>3145.969</td><td>0.346</td><td> 12</td></tr>\n",
       "\t<tr><td>Angola   </td><td>2175.099</td><td>0.333</td><td>  2</td></tr>\n",
       "\t<tr><td>Argentina</td><td>8687.311</td><td>0.643</td><td>142</td></tr>\n",
       "\t<tr><td>⋮</td><td>⋮</td><td>⋮</td><td>⋮</td></tr>\n",
       "\t<tr><td>Ukraine             </td><td> 2150.439</td><td>0.50</td><td> 7</td></tr>\n",
       "\t<tr><td>United Arab Emirates</td><td>36016.234</td><td>0.00</td><td> 0</td></tr>\n",
       "\t<tr><td>Uruguay             </td><td>10148.296</td><td>0.51</td><td>72</td></tr>\n",
       "</tbody>\n",
       "</table>\n"
      ],
      "text/latex": [
       "A tibble: 56 × 4\n",
       "\\begin{tabular}{llll}\n",
       " Country & Mean\\_GDP\\_Capita & P\\% & P3+\\\\\n",
       " <chr> & <dbl> & <dbl> & <dbl>\\\\\n",
       "\\hline\n",
       "\t Algeria   & 3145.969 & 0.346 &  12\\\\\n",
       "\t Angola    & 2175.099 & 0.333 &   2\\\\\n",
       "\t Argentina & 8687.311 & 0.643 & 142\\\\\n",
       "\t ⋮ & ⋮ & ⋮ & ⋮\\\\\n",
       "\t Ukraine              &  2150.439 & 0.50 &  7\\\\\n",
       "\t United Arab Emirates & 36016.234 & 0.00 &  0\\\\\n",
       "\t Uruguay              & 10148.296 & 0.51 & 72\\\\\n",
       "\\end{tabular}\n"
      ],
      "text/markdown": [
       "\n",
       "A tibble: 56 × 4\n",
       "\n",
       "| Country &lt;chr&gt; | Mean_GDP_Capita &lt;dbl&gt; | P% &lt;dbl&gt; | P3+ &lt;dbl&gt; |\n",
       "|---|---|---|---|\n",
       "| Algeria   | 3145.969 | 0.346 |  12 |\n",
       "| Angola    | 2175.099 | 0.333 |   2 |\n",
       "| Argentina | 8687.311 | 0.643 | 142 |\n",
       "| ⋮ | ⋮ | ⋮ | ⋮ |\n",
       "| Ukraine              |  2150.439 | 0.50 |  7 |\n",
       "| United Arab Emirates | 36016.234 | 0.00 |  0 |\n",
       "| Uruguay              | 10148.296 | 0.51 | 72 |\n",
       "\n"
      ],
      "text/plain": [
       "   Country              Mean_GDP_Capita P%    P3+\n",
       "1  Algeria              3145.969        0.346  12\n",
       "2  Angola               2175.099        0.333   2\n",
       "3  Argentina            8687.311        0.643 142\n",
       "⋮  ⋮                    ⋮               ⋮     ⋮  \n",
       "54 Ukraine               2150.439       0.50   7 \n",
       "55 United Arab Emirates 36016.234       0.00   0 \n",
       "56 Uruguay              10148.296       0.51  72 "
      ]
     },
     "metadata": {},
     "output_type": "display_data"
    }
   ],
   "source": [
    "# Attempt to combine world cup data with Country GDP and GDP Growth\n",
    "\n",
    "soccer_data_organized <- soccer_data |>\n",
    "    mutate(Country = Team) |>\n",
    "    select(Country, `P%`, `P3+`)\n",
    "\n",
    "soccer_data_organized\n",
    "\n",
    "soccer_data_combined <- inner_join(country_mean_gdp_capita, soccer_data_organized, by = NULL, copy = FALSE, na_matches = \"na\")\n",
    "soccer_data_combined"
   ]
  },
  {
   "cell_type": "code",
   "execution_count": 9,
   "id": "9a5c7be9-f030-481c-8bd1-332c8f426836",
   "metadata": {},
   "outputs": [
    {
     "data": {
      "image/png": "[encoded data removed]",
      "text/plain": [
       "plot without title"
      ]
     },
     "metadata": {
      "image/png": {
       "height": 420,
       "width": 420
      }
     },
     "output_type": "display_data"
    },
    {
     "data": {
      "image/png": "[encoded data removed]",
      "text/plain": [
       "plot without title"
      ]
     },
     "metadata": {
      "image/png": {
       "height": 420,
       "width": 420
      }
     },
     "output_type": "display_data"
    }
   ],
   "source": [
    "# Visualizing GDP and multiple world cup stats\n",
    "\n",
    "# GDP with Success Percentage\n",
    "\n",
    "gdp_p3_plot <- ggplot(soccer_data_combined, aes(x = Mean_GDP_Capita, y = `P3+`)) + \n",
    "    geom_point()\n",
    "\n",
    "gdp_p3_plot\n",
    "\n",
    "gdp_percent_plot <- ggplot(soccer_data_combined, aes(x = Mean_GDP_Capita, y = `P%`)) + \n",
    "    geom_point()\n",
    "\n",
    "gdp_percent_plot\n",
    "\n",
    "# "
   ]
  },
  {
   "cell_type": "markdown",
   "id": "f5ec6185-0cca-4a5b-8b48-73f6f9c34ca8",
   "metadata": {},
   "source": [
    "## Methods"
   ]
  },
  {
   "cell_type": "markdown",
   "id": "77a1c86d-17c5-4bff-aa2f-b187f35ab001",
   "metadata": {},
   "source": [
    "- Regression (Main Point)\n",
    "- Classification (Maybe)\n",
    "- Maybe Blocking out continents to compare leagues"
   ]
  },
  {
   "cell_type": "markdown",
   "id": "77f856e2-e56a-46cc-92e4-19b5e878307e",
   "metadata": {},
   "source": [
    "## Expected outcomes and significance"
   ]
  },
  {
   "cell_type": "code",
   "execution_count": null,
   "id": "e56e54bc-6dc1-47d1-ab60-163a9d9df928",
   "metadata": {},
   "outputs": [],
   "source": []
  }
 ],
 "metadata": {
  "kernelspec": {
   "display_name": "R",
   "language": "R",
   "name": "ir"
  },
  "language_info": {
   "codemirror_mode": "r",
   "file_extension": ".r",
   "mimetype": "text/x-r-source",
   "name": "R",
   "pygments_lexer": "r",
   "version": "4.1.3"
  }
 },
 "nbformat": 4,
 "nbformat_minor": 5
}
