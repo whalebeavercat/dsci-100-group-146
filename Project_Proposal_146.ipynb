{
 "cells": [
  {
   "cell_type": "markdown",
   "id": "8cb0352d-f490-4505-baf3-e7279098b2a4",
   "metadata": {},
   "source": [
    "# What is the relationship between the Gross Domestic Product Per Capita and the performance of their soccer teams in international matches?"
   ]
  },
  {
   "cell_type": "markdown",
   "id": "e9d89d19-a9ca-4a4e-89db-e13128fbf069",
   "metadata": {},
   "source": [
    "## Introduction\n",
    "\n",
    "- Find bias\n",
    "- Regression, based on country's GDP and performance\n",
    "- Dataset"
   ]
  },
  {
   "cell_type": "code",
   "execution_count": 1,
   "id": "abbc9353-71c0-4ee4-a7b6-eaed97c307eb",
   "metadata": {},
   "outputs": [
    {
     "name": "stderr",
     "output_type": "stream",
     "text": [
      "── \u001b[1mAttaching packages\u001b[22m ─────────────────────────────────────── tidyverse 1.3.1 ──\n",
      "\n",
      "\u001b[32m✔\u001b[39m \u001b[34mggplot2\u001b[39m 3.3.6     \u001b[32m✔\u001b[39m \u001b[34mpurrr  \u001b[39m 0.3.4\n",
      "\u001b[32m✔\u001b[39m \u001b[34mtibble \u001b[39m 3.1.7     \u001b[32m✔\u001b[39m \u001b[34mdplyr  \u001b[39m 1.0.9\n",
      "\u001b[32m✔\u001b[39m \u001b[34mtidyr  \u001b[39m 1.2.0     \u001b[32m✔\u001b[39m \u001b[34mstringr\u001b[39m 1.4.0\n",
      "\u001b[32m✔\u001b[39m \u001b[34mreadr  \u001b[39m 2.1.2     \u001b[32m✔\u001b[39m \u001b[34mforcats\u001b[39m 0.5.1\n",
      "\n",
      "── \u001b[1mConflicts\u001b[22m ────────────────────────────────────────── tidyverse_conflicts() ──\n",
      "\u001b[31m✖\u001b[39m \u001b[34mdplyr\u001b[39m::\u001b[32mfilter()\u001b[39m masks \u001b[34mstats\u001b[39m::filter()\n",
      "\u001b[31m✖\u001b[39m \u001b[34mdplyr\u001b[39m::\u001b[32mlag()\u001b[39m    masks \u001b[34mstats\u001b[39m::lag()\n",
      "\n",
      "── \u001b[1mAttaching packages\u001b[22m ────────────────────────────────────── tidymodels 1.0.0 ──\n",
      "\n",
      "\u001b[32m✔\u001b[39m \u001b[34mbroom       \u001b[39m 1.0.0     \u001b[32m✔\u001b[39m \u001b[34mrsample     \u001b[39m 1.0.0\n",
      "\u001b[32m✔\u001b[39m \u001b[34mdials       \u001b[39m 1.0.0     \u001b[32m✔\u001b[39m \u001b[34mtune        \u001b[39m 1.0.0\n",
      "\u001b[32m✔\u001b[39m \u001b[34minfer       \u001b[39m 1.0.2     \u001b[32m✔\u001b[39m \u001b[34mworkflows   \u001b[39m 1.0.0\n",
      "\u001b[32m✔\u001b[39m \u001b[34mmodeldata   \u001b[39m 1.0.0     \u001b[32m✔\u001b[39m \u001b[34mworkflowsets\u001b[39m 1.0.0\n",
      "\u001b[32m✔\u001b[39m \u001b[34mparsnip     \u001b[39m 1.0.0     \u001b[32m✔\u001b[39m \u001b[34myardstick   \u001b[39m 1.0.0\n",
      "\u001b[32m✔\u001b[39m \u001b[34mrecipes     \u001b[39m 1.0.1     \n",
      "\n",
      "── \u001b[1mConflicts\u001b[22m ───────────────────────────────────────── tidymodels_conflicts() ──\n",
      "\u001b[31m✖\u001b[39m \u001b[34mscales\u001b[39m::\u001b[32mdiscard()\u001b[39m masks \u001b[34mpurrr\u001b[39m::discard()\n",
      "\u001b[31m✖\u001b[39m \u001b[34mdplyr\u001b[39m::\u001b[32mfilter()\u001b[39m   masks \u001b[34mstats\u001b[39m::filter()\n",
      "\u001b[31m✖\u001b[39m \u001b[34mrecipes\u001b[39m::\u001b[32mfixed()\u001b[39m  masks \u001b[34mstringr\u001b[39m::fixed()\n",
      "\u001b[31m✖\u001b[39m \u001b[34mdplyr\u001b[39m::\u001b[32mlag()\u001b[39m      masks \u001b[34mstats\u001b[39m::lag()\n",
      "\u001b[31m✖\u001b[39m \u001b[34myardstick\u001b[39m::\u001b[32mspec()\u001b[39m masks \u001b[34mreadr\u001b[39m::spec()\n",
      "\u001b[31m✖\u001b[39m \u001b[34mrecipes\u001b[39m::\u001b[32mstep()\u001b[39m   masks \u001b[34mstats\u001b[39m::step()\n",
      "\u001b[34m•\u001b[39m Dig deeper into tidy modeling with R at \u001b[32mhttps://www.tmwr.org\u001b[39m\n",
      "\n",
      "\n",
      "Attaching package: ‘rvest’\n",
      "\n",
      "\n",
      "The following object is masked from ‘package:readr’:\n",
      "\n",
      "    guess_encoding\n",
      "\n",
      "\n"
     ]
    }
   ],
   "source": [
    "library(tidyverse)\n",
    "library(repr)\n",
    "library(tidymodels)\n",
    "library(rvest)\n",
    "library(stringr)\n",
    "library(readxl)\n",
    "options(repr.matrix.max.rows = 6)"
   ]
  },
  {
   "cell_type": "markdown",
   "id": "3112f8a1-81c6-4bcd-852c-48778ec6da41",
   "metadata": {},
   "source": [
    "## Data Sources\n",
    "\n",
    "- https://www.imf.org/external/datamapper/datasets/WEO\n",
    "- https://www.rsssf.org/tablesw/wcq-records.html"
   ]
  },
  {
   "cell_type": "code",
   "execution_count": 9,
   "id": "0b106a7c-e8c7-4bd2-92ce-a93cb14c3786",
   "metadata": {},
   "outputs": [
    {
     "data": {
      "text/html": [
       "<table class=\"dataframe\">\n",
       "<caption>A tibble: 231 × 49</caption>\n",
       "<thead>\n",
       "\t<tr><th scope=col>GDP per capita, current prices\n",
       " (U.S. dollars per capita)</th><th scope=col>1980</th><th scope=col>1981</th><th scope=col>1982</th><th scope=col>1983</th><th scope=col>1984</th><th scope=col>1985</th><th scope=col>1986</th><th scope=col>1987</th><th scope=col>1988</th><th scope=col>⋯</th><th scope=col>2018</th><th scope=col>2019</th><th scope=col>2020</th><th scope=col>2021</th><th scope=col>2022</th><th scope=col>2023</th><th scope=col>2024</th><th scope=col>2025</th><th scope=col>2026</th><th scope=col>2027</th></tr>\n",
       "\t<tr><th scope=col>&lt;chr&gt;</th><th scope=col>&lt;chr&gt;</th><th scope=col>&lt;chr&gt;</th><th scope=col>&lt;chr&gt;</th><th scope=col>&lt;chr&gt;</th><th scope=col>&lt;chr&gt;</th><th scope=col>&lt;chr&gt;</th><th scope=col>&lt;chr&gt;</th><th scope=col>&lt;chr&gt;</th><th scope=col>&lt;chr&gt;</th><th scope=col>⋯</th><th scope=col>&lt;chr&gt;</th><th scope=col>&lt;chr&gt;</th><th scope=col>&lt;chr&gt;</th><th scope=col>&lt;chr&gt;</th><th scope=col>&lt;chr&gt;</th><th scope=col>&lt;chr&gt;</th><th scope=col>&lt;chr&gt;</th><th scope=col>&lt;chr&gt;</th><th scope=col>&lt;chr&gt;</th><th scope=col>&lt;chr&gt;</th></tr>\n",
       "</thead>\n",
       "<tbody>\n",
       "\t<tr><td>NA         </td><td>NA                </td><td>NA                </td><td>NA                </td><td>NA     </td><td>NA                </td><td>NA                </td><td>NA                </td><td>NA     </td><td>NA                </td><td>⋯</td><td>NA                </td><td>NA                </td><td>NA                </td><td>NA                </td><td>NA      </td><td>NA                </td><td>NA                </td><td>NA                </td><td>NA                </td><td>NA                </td></tr>\n",
       "\t<tr><td>Afghanistan</td><td>no data           </td><td>no data           </td><td>no data           </td><td>no data</td><td>no data           </td><td>no data           </td><td>no data           </td><td>no data</td><td>no data           </td><td>⋯</td><td>582.32299999999998</td><td>586.20399999999995</td><td>611.26800000000003</td><td>no data           </td><td>no data </td><td>no data           </td><td>no data           </td><td>no data           </td><td>no data           </td><td>no data           </td></tr>\n",
       "\t<tr><td>Albania    </td><td>728.35900000000004</td><td>817.73400000000004</td><td>824.54200000000003</td><td>815.529</td><td>788.33199999999999</td><td>788.80100000000004</td><td>855.72400000000005</td><td>832.245</td><td>805.04600000000005</td><td>⋯</td><td>5257.7139999999999</td><td>5345.058          </td><td>5268.2389999999996</td><td>6373.3000000000002</td><td>6369.009</td><td>6591.6819999999998</td><td>6968.6940000000004</td><td>7470.0820000000003</td><td>7958.0159999999996</td><td>8469.5069999999996</td></tr>\n",
       "\t<tr><td>⋮</td><td>⋮</td><td>⋮</td><td>⋮</td><td>⋮</td><td>⋮</td><td>⋮</td><td>⋮</td><td>⋮</td><td>⋮</td><td>⋱</td><td>⋮</td><td>⋮</td><td>⋮</td><td>⋮</td><td>⋮</td><td>⋮</td><td>⋮</td><td>⋮</td><td>⋮</td><td>⋮</td></tr>\n",
       "\t<tr><td>World     </td><td>2862.3330000000001</td><td>2876.2199999999998</td><td>2772.2150000000001</td><td>2797.085</td><td>2846.6729999999998</td><td>2920.23</td><td>3376.8209999999999</td><td>3820.7339999999999</td><td>4222.9939999999997</td><td>⋯</td><td>11489.302</td><td>11558.645</td><td>11155.513999999999</td><td>12616.281000000001</td><td>13396.102000000001</td><td>13923.716</td><td>14522.870999999999</td><td>15149.837</td><td>15810.007</td><td>16490.797999999999</td></tr>\n",
       "\t<tr><td>NA        </td><td>NA                </td><td>NA                </td><td>NA                </td><td>NA      </td><td>NA                </td><td>NA     </td><td>NA                </td><td>NA                </td><td>NA                </td><td>⋯</td><td>NA       </td><td>NA       </td><td>NA                </td><td>NA                </td><td>NA                </td><td>NA       </td><td>NA                </td><td>NA       </td><td>NA       </td><td>NA                </td></tr>\n",
       "\t<tr><td>©IMF, 2022</td><td>NA                </td><td>NA                </td><td>NA                </td><td>NA      </td><td>NA                </td><td>NA     </td><td>NA                </td><td>NA                </td><td>NA                </td><td>⋯</td><td>NA       </td><td>NA       </td><td>NA                </td><td>NA                </td><td>NA                </td><td>NA       </td><td>NA                </td><td>NA       </td><td>NA       </td><td>NA                </td></tr>\n",
       "</tbody>\n",
       "</table>\n"
      ],
      "text/latex": [
       "A tibble: 231 × 49\n",
       "\\begin{tabular}{lllllllllllllllllllll}\n",
       " GDP per capita, current prices\n",
       " (U.S. dollars per capita) & 1980 & 1981 & 1982 & 1983 & 1984 & 1985 & 1986 & 1987 & 1988 & ⋯ & 2018 & 2019 & 2020 & 2021 & 2022 & 2023 & 2024 & 2025 & 2026 & 2027\\\\\n",
       " <chr> & <chr> & <chr> & <chr> & <chr> & <chr> & <chr> & <chr> & <chr> & <chr> & ⋯ & <chr> & <chr> & <chr> & <chr> & <chr> & <chr> & <chr> & <chr> & <chr> & <chr>\\\\\n",
       "\\hline\n",
       "\t NA          & NA                 & NA                 & NA                 & NA      & NA                 & NA                 & NA                 & NA      & NA                 & ⋯ & NA                 & NA                 & NA                 & NA                 & NA       & NA                 & NA                 & NA                 & NA                 & NA                \\\\\n",
       "\t Afghanistan & no data            & no data            & no data            & no data & no data            & no data            & no data            & no data & no data            & ⋯ & 582.32299999999998 & 586.20399999999995 & 611.26800000000003 & no data            & no data  & no data            & no data            & no data            & no data            & no data           \\\\\n",
       "\t Albania     & 728.35900000000004 & 817.73400000000004 & 824.54200000000003 & 815.529 & 788.33199999999999 & 788.80100000000004 & 855.72400000000005 & 832.245 & 805.04600000000005 & ⋯ & 5257.7139999999999 & 5345.058           & 5268.2389999999996 & 6373.3000000000002 & 6369.009 & 6591.6819999999998 & 6968.6940000000004 & 7470.0820000000003 & 7958.0159999999996 & 8469.5069999999996\\\\\n",
       "\t ⋮ & ⋮ & ⋮ & ⋮ & ⋮ & ⋮ & ⋮ & ⋮ & ⋮ & ⋮ & ⋱ & ⋮ & ⋮ & ⋮ & ⋮ & ⋮ & ⋮ & ⋮ & ⋮ & ⋮ & ⋮\\\\\n",
       "\t World      & 2862.3330000000001 & 2876.2199999999998 & 2772.2150000000001 & 2797.085 & 2846.6729999999998 & 2920.23 & 3376.8209999999999 & 3820.7339999999999 & 4222.9939999999997 & ⋯ & 11489.302 & 11558.645 & 11155.513999999999 & 12616.281000000001 & 13396.102000000001 & 13923.716 & 14522.870999999999 & 15149.837 & 15810.007 & 16490.797999999999\\\\\n",
       "\t NA         & NA                 & NA                 & NA                 & NA       & NA                 & NA      & NA                 & NA                 & NA                 & ⋯ & NA        & NA        & NA                 & NA                 & NA                 & NA        & NA                 & NA        & NA        & NA                \\\\\n",
       "\t ©IMF, 2022 & NA                 & NA                 & NA                 & NA       & NA                 & NA      & NA                 & NA                 & NA                 & ⋯ & NA        & NA        & NA                 & NA                 & NA                 & NA        & NA                 & NA        & NA        & NA                \\\\\n",
       "\\end{tabular}\n"
      ],
      "text/markdown": [
       "\n",
       "A tibble: 231 × 49\n",
       "\n",
       "| GDP per capita, current prices\n",
       " (U.S. dollars per capita) &lt;chr&gt; | 1980 &lt;chr&gt; | 1981 &lt;chr&gt; | 1982 &lt;chr&gt; | 1983 &lt;chr&gt; | 1984 &lt;chr&gt; | 1985 &lt;chr&gt; | 1986 &lt;chr&gt; | 1987 &lt;chr&gt; | 1988 &lt;chr&gt; | ⋯ ⋯ | 2018 &lt;chr&gt; | 2019 &lt;chr&gt; | 2020 &lt;chr&gt; | 2021 &lt;chr&gt; | 2022 &lt;chr&gt; | 2023 &lt;chr&gt; | 2024 &lt;chr&gt; | 2025 &lt;chr&gt; | 2026 &lt;chr&gt; | 2027 &lt;chr&gt; |\n",
       "|---|---|---|---|---|---|---|---|---|---|---|---|---|---|---|---|---|---|---|---|---|\n",
       "| NA          | NA                 | NA                 | NA                 | NA      | NA                 | NA                 | NA                 | NA      | NA                 | ⋯ | NA                 | NA                 | NA                 | NA                 | NA       | NA                 | NA                 | NA                 | NA                 | NA                 |\n",
       "| Afghanistan | no data            | no data            | no data            | no data | no data            | no data            | no data            | no data | no data            | ⋯ | 582.32299999999998 | 586.20399999999995 | 611.26800000000003 | no data            | no data  | no data            | no data            | no data            | no data            | no data            |\n",
       "| Albania     | 728.35900000000004 | 817.73400000000004 | 824.54200000000003 | 815.529 | 788.33199999999999 | 788.80100000000004 | 855.72400000000005 | 832.245 | 805.04600000000005 | ⋯ | 5257.7139999999999 | 5345.058           | 5268.2389999999996 | 6373.3000000000002 | 6369.009 | 6591.6819999999998 | 6968.6940000000004 | 7470.0820000000003 | 7958.0159999999996 | 8469.5069999999996 |\n",
       "| ⋮ | ⋮ | ⋮ | ⋮ | ⋮ | ⋮ | ⋮ | ⋮ | ⋮ | ⋮ | ⋱ | ⋮ | ⋮ | ⋮ | ⋮ | ⋮ | ⋮ | ⋮ | ⋮ | ⋮ | ⋮ |\n",
       "| World      | 2862.3330000000001 | 2876.2199999999998 | 2772.2150000000001 | 2797.085 | 2846.6729999999998 | 2920.23 | 3376.8209999999999 | 3820.7339999999999 | 4222.9939999999997 | ⋯ | 11489.302 | 11558.645 | 11155.513999999999 | 12616.281000000001 | 13396.102000000001 | 13923.716 | 14522.870999999999 | 15149.837 | 15810.007 | 16490.797999999999 |\n",
       "| NA         | NA                 | NA                 | NA                 | NA       | NA                 | NA      | NA                 | NA                 | NA                 | ⋯ | NA        | NA        | NA                 | NA                 | NA                 | NA        | NA                 | NA        | NA        | NA                 |\n",
       "| ©IMF, 2022 | NA                 | NA                 | NA                 | NA       | NA                 | NA      | NA                 | NA                 | NA                 | ⋯ | NA        | NA        | NA                 | NA                 | NA                 | NA        | NA                 | NA        | NA        | NA                 |\n",
       "\n"
      ],
      "text/plain": [
       "    GDP per capita, current prices\\n (U.S. dollars per capita)\n",
       "1   NA                                                        \n",
       "2   Afghanistan                                               \n",
       "3   Albania                                                   \n",
       "⋮   ⋮                                                         \n",
       "229 World                                                     \n",
       "230 NA                                                        \n",
       "231 ©IMF, 2022                                                \n",
       "    1980               1981               1982               1983    \n",
       "1   NA                 NA                 NA                 NA      \n",
       "2   no data            no data            no data            no data \n",
       "3   728.35900000000004 817.73400000000004 824.54200000000003 815.529 \n",
       "⋮   ⋮                  ⋮                  ⋮                  ⋮       \n",
       "229 2862.3330000000001 2876.2199999999998 2772.2150000000001 2797.085\n",
       "230 NA                 NA                 NA                 NA      \n",
       "231 NA                 NA                 NA                 NA      \n",
       "    1984               1985               1986               1987              \n",
       "1   NA                 NA                 NA                 NA                \n",
       "2   no data            no data            no data            no data           \n",
       "3   788.33199999999999 788.80100000000004 855.72400000000005 832.245           \n",
       "⋮   ⋮                  ⋮                  ⋮                  ⋮                 \n",
       "229 2846.6729999999998 2920.23            3376.8209999999999 3820.7339999999999\n",
       "230 NA                 NA                 NA                 NA                \n",
       "231 NA                 NA                 NA                 NA                \n",
       "    1988               ⋯ 2018               2019              \n",
       "1   NA                 ⋯ NA                 NA                \n",
       "2   no data            ⋯ 582.32299999999998 586.20399999999995\n",
       "3   805.04600000000005 ⋯ 5257.7139999999999 5345.058          \n",
       "⋮   ⋮                  ⋱ ⋮                  ⋮                 \n",
       "229 4222.9939999999997 ⋯ 11489.302          11558.645         \n",
       "230 NA                 ⋯ NA                 NA                \n",
       "231 NA                 ⋯ NA                 NA                \n",
       "    2020               2021               2022               2023              \n",
       "1   NA                 NA                 NA                 NA                \n",
       "2   611.26800000000003 no data            no data            no data           \n",
       "3   5268.2389999999996 6373.3000000000002 6369.009           6591.6819999999998\n",
       "⋮   ⋮                  ⋮                  ⋮                  ⋮                 \n",
       "229 11155.513999999999 12616.281000000001 13396.102000000001 13923.716         \n",
       "230 NA                 NA                 NA                 NA                \n",
       "231 NA                 NA                 NA                 NA                \n",
       "    2024               2025               2026               2027              \n",
       "1   NA                 NA                 NA                 NA                \n",
       "2   no data            no data            no data            no data           \n",
       "3   6968.6940000000004 7470.0820000000003 7958.0159999999996 8469.5069999999996\n",
       "⋮   ⋮                  ⋮                  ⋮                  ⋮                 \n",
       "229 14522.870999999999 15149.837          15810.007          16490.797999999999\n",
       "230 NA                 NA                 NA                 NA                \n",
       "231 NA                 NA                 NA                 NA                "
      ]
     },
     "metadata": {},
     "output_type": "display_data"
    },
    {
     "name": "stderr",
     "output_type": "stream",
     "text": [
      "\u001b[1mRows: \u001b[22m\u001b[34m212\u001b[39m \u001b[1mColumns: \u001b[22m\u001b[34m16\u001b[39m\n",
      "\u001b[36m──\u001b[39m \u001b[1mColumn specification\u001b[22m \u001b[36m────────────────────────────────────────────────────────\u001b[39m\n",
      "\u001b[1mDelimiter:\u001b[22m \",\"\n",
      "\u001b[31mchr\u001b[39m  (5): Country, WC1, GD, P2+, P%\n",
      "\u001b[32mdbl\u001b[39m (11): WC2, FT, QS, G, W, D, L, G+, G-, P+, P3+\n",
      "\n",
      "\u001b[36mℹ\u001b[39m Use `spec()` to retrieve the full column specification for this data.\n",
      "\u001b[36mℹ\u001b[39m Specify the column types or set `show_col_types = FALSE` to quiet this message.\n"
     ]
    },
    {
     "data": {
      "text/html": [
       "<table class=\"dataframe\">\n",
       "<caption>A spec_tbl_df: 212 × 16</caption>\n",
       "<thead>\n",
       "\t<tr><th scope=col>Country</th><th scope=col>WC1</th><th scope=col>WC2</th><th scope=col>FT</th><th scope=col>QS</th><th scope=col>G</th><th scope=col>W</th><th scope=col>D</th><th scope=col>L</th><th scope=col>G+</th><th scope=col>G-</th><th scope=col>GD</th><th scope=col>P2+</th><th scope=col>P%</th><th scope=col>P+</th><th scope=col>P3+</th></tr>\n",
       "\t<tr><th scope=col>&lt;chr&gt;</th><th scope=col>&lt;chr&gt;</th><th scope=col>&lt;dbl&gt;</th><th scope=col>&lt;dbl&gt;</th><th scope=col>&lt;dbl&gt;</th><th scope=col>&lt;dbl&gt;</th><th scope=col>&lt;dbl&gt;</th><th scope=col>&lt;dbl&gt;</th><th scope=col>&lt;dbl&gt;</th><th scope=col>&lt;dbl&gt;</th><th scope=col>&lt;dbl&gt;</th><th scope=col>&lt;chr&gt;</th><th scope=col>&lt;chr&gt;</th><th scope=col>&lt;chr&gt;</th><th scope=col>&lt;dbl&gt;</th><th scope=col>&lt;dbl&gt;</th></tr>\n",
       "</thead>\n",
       "<tbody>\n",
       "\t<tr><td>Germany</td><td>18</td><td>16</td><td>18</td><td>190</td><td>130</td><td> 38</td><td>22</td><td>473</td><td>187</td><td>286</td><td>298:</td><td>82     </td><td>0,784</td><td>354</td><td>428</td></tr>\n",
       "\t<tr><td>Brazil </td><td>20</td><td>20</td><td>20</td><td>196</td><td>127</td><td> 41</td><td>28</td><td>420</td><td>161</td><td>259</td><td>295:</td><td>97     </td><td>0,753</td><td>349</td><td>422</td></tr>\n",
       "\t<tr><td>Mexico </td><td>18</td><td> 6</td><td>15</td><td>  3</td><td>212</td><td>116</td><td>47</td><td> 49</td><td>462</td><td>208</td><td>254 </td><td>279:145</td><td>0,658</td><td>340</td><td>395</td></tr>\n",
       "\t<tr><td>⋮</td><td>⋮</td><td>⋮</td><td>⋮</td><td>⋮</td><td>⋮</td><td>⋮</td><td>⋮</td><td>⋮</td><td>⋮</td><td>⋮</td><td>⋮</td><td>⋮</td><td>⋮</td><td>⋮</td><td>⋮</td></tr>\n",
       "\t<tr><td>Montserrat </td><td>4</td><td> 4</td><td>4</td><td> 7</td><td>0</td><td>0</td><td> 7</td><td>5</td><td>41</td><td>-36</td><td>0:</td><td>14</td><td>0,000</td><td>0</td><td>0</td></tr>\n",
       "\t<tr><td>North_Yemen</td><td>2</td><td>-6</td><td>2</td><td> 8</td><td>0</td><td>0</td><td> 8</td><td>1</td><td>17</td><td>-16</td><td>0:</td><td>16</td><td>0,000</td><td>0</td><td>0</td></tr>\n",
       "\t<tr><td>Brunei     </td><td>2</td><td>-3</td><td>2</td><td>12</td><td>0</td><td>0</td><td>12</td><td>2</td><td>57</td><td>-55</td><td>0:</td><td>24</td><td>0,000</td><td>0</td><td>0</td></tr>\n",
       "</tbody>\n",
       "</table>\n"
      ],
      "text/latex": [
       "A spec\\_tbl\\_df: 212 × 16\n",
       "\\begin{tabular}{llllllllllllllll}\n",
       " Country & WC1 & WC2 & FT & QS & G & W & D & L & G+ & G- & GD & P2+ & P\\% & P+ & P3+\\\\\n",
       " <chr> & <chr> & <dbl> & <dbl> & <dbl> & <dbl> & <dbl> & <dbl> & <dbl> & <dbl> & <dbl> & <chr> & <chr> & <chr> & <dbl> & <dbl>\\\\\n",
       "\\hline\n",
       "\t Germany & 18 & 16 & 18 & 190 & 130 &  38 & 22 & 473 & 187 & 286 & 298: & 82      & 0,784 & 354 & 428\\\\\n",
       "\t Brazil  & 20 & 20 & 20 & 196 & 127 &  41 & 28 & 420 & 161 & 259 & 295: & 97      & 0,753 & 349 & 422\\\\\n",
       "\t Mexico  & 18 &  6 & 15 &   3 & 212 & 116 & 47 &  49 & 462 & 208 & 254  & 279:145 & 0,658 & 340 & 395\\\\\n",
       "\t ⋮ & ⋮ & ⋮ & ⋮ & ⋮ & ⋮ & ⋮ & ⋮ & ⋮ & ⋮ & ⋮ & ⋮ & ⋮ & ⋮ & ⋮ & ⋮\\\\\n",
       "\t Montserrat  & 4 &  4 & 4 &  7 & 0 & 0 &  7 & 5 & 41 & -36 & 0: & 14 & 0,000 & 0 & 0\\\\\n",
       "\t North\\_Yemen & 2 & -6 & 2 &  8 & 0 & 0 &  8 & 1 & 17 & -16 & 0: & 16 & 0,000 & 0 & 0\\\\\n",
       "\t Brunei      & 2 & -3 & 2 & 12 & 0 & 0 & 12 & 2 & 57 & -55 & 0: & 24 & 0,000 & 0 & 0\\\\\n",
       "\\end{tabular}\n"
      ],
      "text/markdown": [
       "\n",
       "A spec_tbl_df: 212 × 16\n",
       "\n",
       "| Country &lt;chr&gt; | WC1 &lt;chr&gt; | WC2 &lt;dbl&gt; | FT &lt;dbl&gt; | QS &lt;dbl&gt; | G &lt;dbl&gt; | W &lt;dbl&gt; | D &lt;dbl&gt; | L &lt;dbl&gt; | G+ &lt;dbl&gt; | G- &lt;dbl&gt; | GD &lt;chr&gt; | P2+ &lt;chr&gt; | P% &lt;chr&gt; | P+ &lt;dbl&gt; | P3+ &lt;dbl&gt; |\n",
       "|---|---|---|---|---|---|---|---|---|---|---|---|---|---|---|---|\n",
       "| Germany | 18 | 16 | 18 | 190 | 130 |  38 | 22 | 473 | 187 | 286 | 298: | 82      | 0,784 | 354 | 428 |\n",
       "| Brazil  | 20 | 20 | 20 | 196 | 127 |  41 | 28 | 420 | 161 | 259 | 295: | 97      | 0,753 | 349 | 422 |\n",
       "| Mexico  | 18 |  6 | 15 |   3 | 212 | 116 | 47 |  49 | 462 | 208 | 254  | 279:145 | 0,658 | 340 | 395 |\n",
       "| ⋮ | ⋮ | ⋮ | ⋮ | ⋮ | ⋮ | ⋮ | ⋮ | ⋮ | ⋮ | ⋮ | ⋮ | ⋮ | ⋮ | ⋮ | ⋮ |\n",
       "| Montserrat  | 4 |  4 | 4 |  7 | 0 | 0 |  7 | 5 | 41 | -36 | 0: | 14 | 0,000 | 0 | 0 |\n",
       "| North_Yemen | 2 | -6 | 2 |  8 | 0 | 0 |  8 | 1 | 17 | -16 | 0: | 16 | 0,000 | 0 | 0 |\n",
       "| Brunei      | 2 | -3 | 2 | 12 | 0 | 0 | 12 | 2 | 57 | -55 | 0: | 24 | 0,000 | 0 | 0 |\n",
       "\n"
      ],
      "text/plain": [
       "    Country     WC1 WC2 FT QS  G   W   D  L   G+  G-  GD   P2+     P%    P+ \n",
       "1   Germany     18  16  18 190 130  38 22 473 187 286 298: 82      0,784 354\n",
       "2   Brazil      20  20  20 196 127  41 28 420 161 259 295: 97      0,753 349\n",
       "3   Mexico      18   6  15   3 212 116 47  49 462 208 254  279:145 0,658 340\n",
       "⋮   ⋮           ⋮   ⋮   ⋮  ⋮   ⋮   ⋮   ⋮  ⋮   ⋮   ⋮   ⋮    ⋮       ⋮     ⋮  \n",
       "210 Montserrat  4    4  4   7  0   0    7 5   41  -36 0:   14      0,000 0  \n",
       "211 North_Yemen 2   -6  2   8  0   0    8 1   17  -16 0:   16      0,000 0  \n",
       "212 Brunei      2   -3  2  12  0   0   12 2   57  -55 0:   24      0,000 0  \n",
       "    P3+\n",
       "1   428\n",
       "2   422\n",
       "3   395\n",
       "⋮   ⋮  \n",
       "210 0  \n",
       "211 0  \n",
       "212 0  "
      ]
     },
     "metadata": {},
     "output_type": "display_data"
    }
   ],
   "source": [
    "# Loading all data needed for this project\n",
    "country_gdp <- read_excel(path = \"data/country_gdp.xls\")\n",
    "country_gdp\n",
    "soccer_data <- read_csv(\"data/SoccerDataWorldCup.csv\")\n",
    "soccer_data"
   ]
  },
  {
   "cell_type": "markdown",
   "id": "dd925de2-8e9f-4bba-ad59-ab9f58def223",
   "metadata": {},
   "source": [
    "## Preliminary exploratory data analysis\n"
   ]
  },
  {
   "cell_type": "markdown",
   "id": "f5ec6185-0cca-4a5b-8b48-73f6f9c34ca8",
   "metadata": {},
   "source": [
    "## Methods"
   ]
  },
  {
   "cell_type": "markdown",
   "id": "77f856e2-e56a-46cc-92e4-19b5e878307e",
   "metadata": {},
   "source": [
    "## Expected outcomes and significance"
   ]
  },
  {
   "cell_type": "code",
   "execution_count": null,
   "id": "e56e54bc-6dc1-47d1-ab60-163a9d9df928",
   "metadata": {},
   "outputs": [],
   "source": []
  }
 ],
 "metadata": {
  "kernelspec": {
   "display_name": "R",
   "language": "R",
   "name": "ir"
  },
  "language_info": {
   "codemirror_mode": "r",
   "file_extension": ".r",
   "mimetype": "text/x-r-source",
   "name": "R",
   "pygments_lexer": "r",
   "version": "4.1.3"
  }
 },
 "nbformat": 4,
 "nbformat_minor": 5
}
